{
 "cells": [
  {
   "cell_type": "code",
   "execution_count": 197,
   "id": "2237ca85-7e5c-4ec6-af57-0cdb8498a445",
   "metadata": {},
   "outputs": [
    {
     "data": {
      "text/html": [
       "<div>\n",
       "<style scoped>\n",
       "    .dataframe tbody tr th:only-of-type {\n",
       "        vertical-align: middle;\n",
       "    }\n",
       "\n",
       "    .dataframe tbody tr th {\n",
       "        vertical-align: top;\n",
       "    }\n",
       "\n",
       "    .dataframe thead th {\n",
       "        text-align: right;\n",
       "    }\n",
       "</style>\n",
       "<table border=\"1\" class=\"dataframe\">\n",
       "  <thead>\n",
       "    <tr style=\"text-align: right;\">\n",
       "      <th></th>\n",
       "      <th>PassengerId</th>\n",
       "      <th>Survived</th>\n",
       "    </tr>\n",
       "  </thead>\n",
       "  <tbody>\n",
       "    <tr>\n",
       "      <th>0</th>\n",
       "      <td>892</td>\n",
       "      <td>0</td>\n",
       "    </tr>\n",
       "    <tr>\n",
       "      <th>1</th>\n",
       "      <td>893</td>\n",
       "      <td>1</td>\n",
       "    </tr>\n",
       "    <tr>\n",
       "      <th>2</th>\n",
       "      <td>894</td>\n",
       "      <td>0</td>\n",
       "    </tr>\n",
       "    <tr>\n",
       "      <th>3</th>\n",
       "      <td>895</td>\n",
       "      <td>0</td>\n",
       "    </tr>\n",
       "    <tr>\n",
       "      <th>4</th>\n",
       "      <td>896</td>\n",
       "      <td>1</td>\n",
       "    </tr>\n",
       "  </tbody>\n",
       "</table>\n",
       "</div>"
      ],
      "text/plain": [
       "   PassengerId  Survived\n",
       "0          892         0\n",
       "1          893         1\n",
       "2          894         0\n",
       "3          895         0\n",
       "4          896         1"
      ]
     },
     "execution_count": 197,
     "metadata": {},
     "output_type": "execute_result"
    }
   ],
   "source": [
    "import pandas as pd\n",
    "import numpy as np\n",
    "import seaborn as sns\n",
    "import matplotlib.pyplot as plt\n",
    "plt.rc('font', family='Malgun Gothic')\n",
    "plt.rc('axes', unicode_minus=False)\n",
    "\n",
    "import warnings\n",
    "warnings.filterwarnings(action='ignore')\n",
    "\n",
    "# CSV 파일 불러오기\n",
    "test = pd.read_csv(\"test.csv\")\n",
    "train = pd.read_csv(\"train.csv\")\n",
    "submission = pd.read_csv(\"submission.csv\")\n",
    "\n",
    "# 데이터 확인\n",
    "test.head()\n",
    "train.head()\n",
    "submission.head()\n"
   ]
  },
  {
   "cell_type": "code",
   "execution_count": 198,
   "id": "ffad70f8-87b6-472c-ba2f-b6f0bfdd61a2",
   "metadata": {},
   "outputs": [],
   "source": [
    "import matplotlib.pyplot as plt  \n",
    "import matplotlib.font_manager as fm  \n",
    "\n",
    "plt.rcParams['font.family'] = 'AppleGothic'  # 또는 'NanumGothic'\n"
   ]
  },
  {
   "cell_type": "code",
   "execution_count": 199,
   "id": "c7731623-a1fc-4d75-b04f-b1582c6eb565",
   "metadata": {},
   "outputs": [
    {
     "data": {
      "text/plain": [
       "PassengerId      0\n",
       "Survived         0\n",
       "Pclass           0\n",
       "Name             0\n",
       "Sex              0\n",
       "Age            177\n",
       "SibSp            0\n",
       "Parch            0\n",
       "Ticket           0\n",
       "Fare             0\n",
       "Cabin          687\n",
       "Embarked         2\n",
       "dtype: int64"
      ]
     },
     "execution_count": 199,
     "metadata": {},
     "output_type": "execute_result"
    }
   ],
   "source": [
    "train.isnull().sum()"
   ]
  },
  {
   "cell_type": "code",
   "execution_count": 200,
   "id": "1df554c8-a895-4cbd-977f-08a180c03a67",
   "metadata": {},
   "outputs": [
    {
     "data": {
      "text/plain": [
       "PassengerId      0\n",
       "Pclass           0\n",
       "Name             0\n",
       "Sex              0\n",
       "Age             86\n",
       "SibSp            0\n",
       "Parch            0\n",
       "Ticket           0\n",
       "Fare             1\n",
       "Cabin          327\n",
       "Embarked         0\n",
       "dtype: int64"
      ]
     },
     "execution_count": 200,
     "metadata": {},
     "output_type": "execute_result"
    }
   ],
   "source": [
    "test.isnull().sum()"
   ]
  },
  {
   "cell_type": "code",
   "execution_count": 201,
   "id": "397baef7-4a8b-4164-8951-48be833cfce1",
   "metadata": {},
   "outputs": [
    {
     "data": {
      "image/png": "[encoded data removed]",
      "text/plain": [
       "<Figure size 800x500 with 1 Axes>"
      ]
     },
     "metadata": {},
     "output_type": "display_data"
    }
   ],
   "source": [
    "import matplotlib.pyplot as plt\n",
    "import seaborn as sns\n",
    "\n",
    "# 폰트 설정\n",
    "plt.rcParams['font.family'] = 'AppleGothic'\n",
    "plt.rcParams['axes.unicode_minus'] = False  # 마이너스 기호 깨짐 방지\n",
    "\n",
    "# 데이터 준비\n",
    "survival_counts = train[\"Survived\"].value_counts()\n",
    "labels = ['사망', '생존']\n",
    "colors = ['#FF6B6B', '#4ECDC4']  # 네온 느낌 색상\n",
    "\n",
    "# 시각화\n",
    "plt.figure(figsize=(8, 5))\n",
    "sns.barplot(x=survival_counts.index, y=survival_counts.values, palette=colors)\n",
    "\n",
    "# 텍스트 라벨 추가\n",
    "for i, v in enumerate(survival_counts.values):\n",
    "    plt.text(i, v + 10, f'{v}명', ha='center', fontsize=12, fontweight='bold', color='black')\n",
    "\n",
    "# 그래프 스타일 설정\n",
    "plt.xticks(ticks=[0, 1], labels=labels, fontsize=12, fontweight='bold', color='black')\n",
    "plt.ylabel('인원 수', fontsize=12, fontweight='bold')\n",
    "plt.title('타이타닉 생존자 비율', fontsize=14, fontweight='bold', color='#333333')\n",
    "\n",
    "# 보더 스타일 변경\n",
    "plt.gca().spines['top'].set_visible(False)\n",
    "plt.gca().spines['right'].set_visible(False)\n",
    "\n",
    "plt.show()\n"
   ]
  },
  {
   "cell_type": "code",
   "execution_count": 202,
   "id": "e295bac2-78fa-448d-b6ee-cbeaaafea529",
   "metadata": {
    "scrolled": true
   },
   "outputs": [
    {
     "data": {
      "image/png": "[encoded data removed]",
      "text/plain": [
       "<Figure size 1200x500 with 2 Axes>"
      ]
     },
     "metadata": {},
     "output_type": "display_data"
    }
   ],
   "source": [
    "import matplotlib.pyplot as plt\n",
    "import seaborn as sns\n",
    "\n",
    "# 폰트 설정\n",
    "plt.rcParams['font.family'] = 'AppleGothic'\n",
    "plt.rcParams['axes.unicode_minus'] = False  # 마이너스 기호 깨짐 방지\n",
    "\n",
    "# 색상 설정\n",
    "colors = ['#FF6B6B', '#4ECDC4']\n",
    "\n",
    "# 그래프 그리기\n",
    "fig, axes = plt.subplots(1, 2, figsize=(12, 5), dpi=100)\n",
    "fig.suptitle(\"타이타닉 성별 분석\", fontsize=18, fontweight='bold', color='#333333')\n",
    "\n",
    "# 1. 성별 탑승자 수\n",
    "sns.barplot(x=train[\"Sex\"].value_counts().index, \n",
    "            y=train[\"Sex\"].value_counts().values, \n",
    "            ax=axes[0], \n",
    "            palette=colors)\n",
    "\n",
    "axes[0].set_title(\"🚢 성별 탑승자 수\", size=15, fontweight='bold', pad=15)\n",
    "axes[0].set_ylabel(\"탑승자 수\", fontsize=12, fontweight='bold')\n",
    "axes[0].set_xlabel(\"\")\n",
    "axes[0].grid(axis='y', linestyle='--', alpha=0.5)\n",
    "\n",
    "# 막대 위에 숫자 표시\n",
    "for i, v in enumerate(train[\"Sex\"].value_counts().values):\n",
    "    axes[0].text(i, v + 5, f'{v}명', ha='center', fontsize=12, fontweight='bold', color='black')\n",
    "\n",
    "# 2. 성별 생존자 수\n",
    "sns.countplot(x=\"Sex\", hue=\"Survived\", data=train, palette=colors, ax=axes[1])\n",
    "\n",
    "axes[1].set_title(\"🛟 성별 생존자 수\", size=15, fontweight='bold', pad=15)\n",
    "axes[1].set_ylabel(\"인원 수\", fontsize=12, fontweight='bold')\n",
    "axes[1].set_xlabel(\"\")\n",
    "axes[1].legend(labels=['사망 💀', '생존'], title=\"생존 여부\", loc='upper right', fontsize=11)\n",
    "axes[1].grid(axis='y', linestyle='--', alpha=0.5)\n",
    "\n",
    "plt.tight_layout()\n",
    "plt.show()\n"
   ]
  },
  {
   "cell_type": "code",
   "execution_count": 203,
   "id": "c5a3c107-a207-4d65-989b-d4a2443275e4",
   "metadata": {},
   "outputs": [
    {
     "data": {
      "image/png": "[encoded data removed]",
      "text/plain": [
       "<Figure size 600x500 with 1 Axes>"
      ]
     },
     "metadata": {},
     "output_type": "display_data"
    }
   ],
   "source": [
    "import matplotlib.pyplot as plt\n",
    "import seaborn as sns\n",
    "\n",
    "# 폰트 설정\n",
    "plt.rcParams['font.family'] = 'AppleGothic'\n",
    "plt.rcParams['axes.unicode_minus'] = False\n",
    "\n",
    "# 색상 설정\n",
    "colors = ['#FF6B6B', '#4ECDC4']\n",
    "\n",
    "# 성별 생존률 계산\n",
    "survival_rate = train[['Sex', 'Survived']].groupby('Sex').mean()\n",
    "\n",
    "# 시각화\n",
    "plt.figure(figsize=(6, 5), dpi=100)\n",
    "ax = sns.barplot(x=survival_rate.index, y=survival_rate.Survived, palette=colors)\n",
    "\n",
    "# 제목 및 축 레이블 설정\n",
    "ax.set_title(\"🛟 성별 생존률\", fontsize=15, fontweight='bold', pad=10)\n",
    "ax.set_ylabel(\"생존률\", fontsize=12, fontweight='bold')\n",
    "ax.set_xlabel(\"\")\n",
    "\n",
    "# 막대 위에 숫자 표시\n",
    "for i, v in enumerate(survival_rate.Survived):\n",
    "    ax.text(i, v + 0.02, f'{v:.2%}', ha='center', fontsize=12, fontweight='bold', color='black')\n",
    "\n",
    "# y축 범위 조정\n",
    "ax.set_ylim(0, 1)\n",
    "\n",
    "plt.show()\n"
   ]
  },
  {
   "cell_type": "code",
   "execution_count": 204,
   "id": "8eb78594-b960-4b47-9018-66f40b1e934b",
   "metadata": {},
   "outputs": [
    {
     "data": {
      "text/html": [
       "<div>\n",
       "<style scoped>\n",
       "    .dataframe tbody tr th:only-of-type {\n",
       "        vertical-align: middle;\n",
       "    }\n",
       "\n",
       "    .dataframe tbody tr th {\n",
       "        vertical-align: top;\n",
       "    }\n",
       "\n",
       "    .dataframe thead th {\n",
       "        text-align: right;\n",
       "    }\n",
       "</style>\n",
       "<table border=\"1\" class=\"dataframe\">\n",
       "  <thead>\n",
       "    <tr style=\"text-align: right;\">\n",
       "      <th></th>\n",
       "      <th>Survived</th>\n",
       "    </tr>\n",
       "    <tr>\n",
       "      <th>Pclass</th>\n",
       "      <th></th>\n",
       "    </tr>\n",
       "  </thead>\n",
       "  <tbody>\n",
       "    <tr>\n",
       "      <th>1</th>\n",
       "      <td>0.629630</td>\n",
       "    </tr>\n",
       "    <tr>\n",
       "      <th>2</th>\n",
       "      <td>0.472826</td>\n",
       "    </tr>\n",
       "    <tr>\n",
       "      <th>3</th>\n",
       "      <td>0.242363</td>\n",
       "    </tr>\n",
       "  </tbody>\n",
       "</table>\n",
       "</div>"
      ],
      "text/plain": [
       "        Survived\n",
       "Pclass          \n",
       "1       0.629630\n",
       "2       0.472826\n",
       "3       0.242363"
      ]
     },
     "execution_count": 204,
     "metadata": {},
     "output_type": "execute_result"
    }
   ],
   "source": [
    "train[['Pclass', 'Survived']].groupby('Pclass').mean()"
   ]
  },
  {
   "cell_type": "code",
   "execution_count": 205,
   "id": "318e34c4-0bc7-4a36-a2f9-4562a50c4ba1",
   "metadata": {},
   "outputs": [
    {
     "data": {
      "image/png": "[encoded data removed]",
      "text/plain": [
       "<Figure size 1200x500 with 2 Axes>"
      ]
     },
     "metadata": {},
     "output_type": "display_data"
    }
   ],
   "source": [
    "import matplotlib.pyplot as plt\n",
    "import seaborn as sns\n",
    "\n",
    "# 폰트 설정\n",
    "plt.rcParams['font.family'] = 'AppleGothic'\n",
    "plt.rcParams['axes.unicode_minus'] = False\n",
    "\n",
    "# 색상 설정\n",
    "colors = ['#FF6B6B', '#4ECDC4']\n",
    "\n",
    "# 그래프 생성\n",
    "fig, axes = plt.subplots(1, 2, figsize=(12, 5), dpi=100)\n",
    "fig.suptitle(\"🚢 타이타닉 클래스별 분석\", fontsize=18, fontweight='bold', color='#333333')\n",
    "\n",
    "# 1. 클래스별 탑승자 수\n",
    "sns.barplot(x=train[\"Pclass\"].value_counts().index, \n",
    "            y=train[\"Pclass\"].value_counts().values, \n",
    "            ax=axes[0], \n",
    "            palette=colors)\n",
    "\n",
    "axes[0].set_title(\"🛳️ 클래스별 탑승자 수\", size=15, fontweight='bold', pad=15)\n",
    "axes[0].set_ylabel(\"탑승자 수\", fontsize=12, fontweight='bold')\n",
    "axes[0].set_xlabel(\"클래스\", fontsize=12, fontweight='bold')\n",
    "axes[0].grid(axis='y', linestyle='--', alpha=0.5)\n",
    "\n",
    "# 막대 위에 숫자 표시\n",
    "for i, v in enumerate(train[\"Pclass\"].value_counts().values):\n",
    "    axes[0].text(i, v + 5, f'{v}명', ha='center', fontsize=12, fontweight='bold', color='black')\n",
    "\n",
    "# 2. 클래스별 생존/사망 수\n",
    "sns.countplot(x=\"Pclass\", hue=\"Survived\", data=train, palette=colors, ax=axes[1])\n",
    "\n",
    "axes[1].set_title(\"🛟 클래스별 생존/사망 수\", size=15, fontweight='bold', pad=15)\n",
    "axes[1].set_ylabel(\"인원 수\", fontsize=12, fontweight='bold')\n",
    "axes[1].set_xlabel(\"클래스\", fontsize=12, fontweight='bold')\n",
    "axes[1].legend(labels=['사망 💀', '생존 ❤️'], title=\"생존 여부\", loc='upper right', fontsize=11)\n",
    "axes[1].grid(axis='y', linestyle='--', alpha=0.5)\n",
    "\n",
    "plt.tight_layout()\n",
    "plt.show()\n"
   ]
  },
  {
   "cell_type": "code",
   "execution_count": 206,
   "id": "901c767a-9369-4065-b68f-c02cf90296ff",
   "metadata": {},
   "outputs": [
    {
     "data": {
      "image/png": "[encoded data removed]",
      "text/plain": [
       "<Figure size 600x500 with 1 Axes>"
      ]
     },
     "metadata": {},
     "output_type": "display_data"
    }
   ],
   "source": [
    "import matplotlib.pyplot as plt\n",
    "import seaborn as sns\n",
    "\n",
    "# 폰트 설정\n",
    "plt.rcParams['font.family'] = 'AppleGothic'\n",
    "plt.rcParams['axes.unicode_minus'] = False\n",
    "\n",
    "# 색상 설정\n",
    "colors = ['#FF6B6B', '#4ECDC4', '#FFD93D']\n",
    "\n",
    "# 클래스별 생존률 계산\n",
    "survival_rate = train[['Pclass', 'Survived']].groupby('Pclass').mean()\n",
    "\n",
    "# 시각화\n",
    "plt.figure(figsize=(6, 5), dpi=100)\n",
    "ax = sns.barplot(x=survival_rate.index, y=survival_rate.Survived, palette=colors)\n",
    "\n",
    "# 제목 및 축 레이블 설정\n",
    "ax.set_title(\"🚢 클래스별 생존률\", fontsize=15, fontweight='bold', pad=10)\n",
    "ax.set_ylabel(\"생존률\", fontsize=12, fontweight='bold')\n",
    "ax.set_xlabel(\"클래스\", fontsize=12, fontweight='bold')\n",
    "\n",
    "# 막대 위에 숫자 표시\n",
    "for i, v in enumerate(survival_rate.Survived):\n",
    "    ax.text(i, v + 0.02, f'{v:.2%}', ha='center', fontsize=12, fontweight='bold', color='black')\n",
    "\n",
    "# y축 범위 조정\n",
    "ax.set_ylim(0, 1)\n",
    "\n",
    "plt.show()\n"
   ]
  },
  {
   "cell_type": "code",
   "execution_count": 207,
   "id": "17951870-800a-4a12-94bb-3a892fde26e4",
   "metadata": {},
   "outputs": [
    {
     "data": {
      "text/plain": [
       "count    714.000000\n",
       "mean      29.699118\n",
       "std       14.526497\n",
       "min        0.420000\n",
       "25%       20.125000\n",
       "50%       28.000000\n",
       "75%       38.000000\n",
       "max       80.000000\n",
       "Name: Age, dtype: float64"
      ]
     },
     "execution_count": 207,
     "metadata": {},
     "output_type": "execute_result"
    }
   ],
   "source": [
    "train['Age'].describe()"
   ]
  },
  {
   "cell_type": "code",
   "execution_count": 208,
   "id": "a0159e63-79e9-4ff3-a45d-2adf5bd1ebb7",
   "metadata": {},
   "outputs": [
    {
     "data": {
      "text/plain": [
       "<Axes: xlabel='Age', ylabel='Density'>"
      ]
     },
     "execution_count": 208,
     "metadata": {},
     "output_type": "execute_result"
    },
    {
     "data": {
      "image/png": "[encoded data removed]",
      "text/plain": [
       "<Figure size 800x500 with 1 Axes>"
      ]
     },
     "metadata": {},
     "output_type": "display_data"
    }
   ],
   "source": [
    "plt.figure(figsize=(8, 5))\n",
    "sns.distplot(train['Age'], bins=25)"
   ]
  },
  {
   "cell_type": "code",
   "execution_count": 209,
   "id": "52d8529c-a8a4-4bbf-ace7-b3c017600748",
   "metadata": {},
   "outputs": [
    {
     "data": {
      "text/plain": [
       "<Axes: xlabel='Age', ylabel='Density'>"
      ]
     },
     "execution_count": 209,
     "metadata": {},
     "output_type": "execute_result"
    },
    {
     "data": {
      "image/png": "[encoded data removed]",
      "text/plain": [
       "<Figure size 800x500 with 1 Axes>"
      ]
     },
     "metadata": {},
     "output_type": "display_data"
    }
   ],
   "source": [
    "sur = train[train['Survived'] == 1]\n",
    "dead = train[train['Survived'] == 0]\n",
    "\n",
    "plt.figure(figsize=(8, 5))\n",
    "sns.distplot(sur['Age'], bins=25, hist=False)\n",
    "sns.distplot(dead['Age'], bins=25, hist=False)"
   ]
  },
  {
   "cell_type": "code",
   "execution_count": 210,
   "id": "096b7754-f96a-416b-99c8-c12d52ad62e2",
   "metadata": {},
   "outputs": [
    {
     "data": {
      "image/png": "[encoded data removed]",
      "text/plain": [
       "<Figure size 1200x500 with 2 Axes>"
      ]
     },
     "metadata": {},
     "output_type": "display_data"
    }
   ],
   "source": [
    "# 폰트 및 스타일 설정\n",
    "plt.rcParams['font.family'] = 'AppleGothic'\n",
    "plt.rcParams['axes.unicode_minus'] = False\n",
    "colors = ['#FF6B6B', '#4ECDC4']\n",
    "\n",
    "# 그래프 생성\n",
    "fig, axes = plt.subplots(1, 2, figsize=(12, 5), dpi=100)\n",
    "fig.suptitle(\"🚢 승선 항구별 분석\", fontsize=18, fontweight='bold', color='#333333')\n",
    "\n",
    "# 승선 항구별 탑승자 수\n",
    "sns.countplot(x=\"Embarked\", data=train, ax=axes[0], palette=colors)\n",
    "axes[0].set_title(\"📍 승선 항구별 탑승자 수\", size=15, fontweight='bold', pad=15)\n",
    "axes[0].set_ylabel(\"탑승자 수\", fontsize=12, fontweight='bold')\n",
    "axes[0].set_xlabel(\"Embarked\", fontsize=12, fontweight='bold')\n",
    "axes[0].grid(axis='y', linestyle='--', alpha=0.5)\n",
    "\n",
    "# 승선 항구별 생존 여부\n",
    "sns.countplot(x=\"Embarked\", hue=\"Survived\", data=train, ax=axes[1], palette=colors)\n",
    "axes[1].set_title(\"🛟 승선 항구별 생존 여부\", size=15, fontweight='bold', pad=15)\n",
    "axes[1].set_ylabel(\"인원 수\", fontsize=12, fontweight='bold')\n",
    "axes[1].set_xlabel(\"Embarked\", fontsize=12, fontweight='bold')\n",
    "axes[1].legend(labels=['사망 💀', '생존 ❤️'], title=\"생존 여부\", loc='upper right', fontsize=11)\n",
    "axes[1].grid(axis='y', linestyle='--', alpha=0.5)\n",
    "\n",
    "plt.tight_layout(rect=[0, 0, 1, 0.96])\n",
    "plt.show()"
   ]
  },
  {
   "cell_type": "code",
   "execution_count": 211,
   "id": "2dc18697-94bf-4740-9c4a-6f59556c30da",
   "metadata": {},
   "outputs": [
    {
     "data": {
      "image/png": "[encoded data removed]",
      "text/plain": [
       "<Figure size 1200x500 with 2 Axes>"
      ]
     },
     "metadata": {},
     "output_type": "display_data"
    }
   ],
   "source": [
    "fig, ax = plt.subplots(1, 2, figsize=(12, 5))\n",
    "\n",
    "sns.countplot(data=train, x='SibSp', hue='Embarked', ax=ax[0])\n",
    "sns.countplot(data=train, x='Parch', hue='Embarked', ax=ax[1])\n",
    "ax[0].legend(loc='upper right')\n",
    "ax[1].legend(loc='upper right')\n",
    "plt.show()"
   ]
  },
  {
   "cell_type": "code",
   "execution_count": 212,
   "id": "b740cc53-b2ce-4786-be5d-0c57c3aa4bb4",
   "metadata": {},
   "outputs": [
    {
     "data": {
      "image/png": "[encoded data removed]",
      "text/plain": [
       "<Figure size 800x500 with 1 Axes>"
      ]
     },
     "metadata": {},
     "output_type": "display_data"
    }
   ],
   "source": [
    "pc1 = train[train['Pclass'] == 1]['Embarked'].value_counts()\n",
    "pc2 = train[train['Pclass'] == 2]['Embarked'].value_counts()\n",
    "pc3 = train[train['Pclass'] == 3]['Embarked'].value_counts()\n",
    "pc = pd.DataFrame([pc1, pc2, pc3])\n",
    "pc.index = ['1st class', '2nd class', '3rd class']\n",
    "\n",
    "# 색상 설정 (원하는 색상 리스트)\n",
    "colors = ['#FF6B6B', '#4ECDC4', '#FFD166']\n",
    "\n",
    "# 그래프 생성\n",
    "fig, ax = plt.subplots(figsize=(8, 5))\n",
    "pc.plot(kind='bar', stacked=True, ax=ax, color=colors)\n",
    "\n",
    "# 그래프 출력\n",
    "plt.title(\"클래스별 승선 항구 분포\", fontsize=15)\n",
    "plt.xlabel(\"클래스\", fontsize=12)\n",
    "plt.ylabel(\"탑승자 수\", fontsize=12)\n",
    "plt.show()\n"
   ]
  },
  {
   "cell_type": "code",
   "execution_count": 213,
   "id": "cb440a2d-76d1-452f-911e-26a2c3c1394a",
   "metadata": {},
   "outputs": [
    {
     "data": {
      "image/png": "[encoded data removed]",
      "text/plain": [
       "<Figure size 1000x600 with 1 Axes>"
      ]
     },
     "metadata": {},
     "output_type": "display_data"
    }
   ],
   "source": [
    "fig, ax = plt.subplots(figsize=(10,6))\n",
    " \n",
    "# 분포 확인\n",
    "sns.kdeplot(train[train['Survived']==1]['Fare'], ax=ax)\n",
    "sns.kdeplot(train[train['Survived']==0]['Fare'], ax=ax)\n",
    " \n",
    "# 축 범위\n",
    "ax.set(xlim=(0, train['Fare'].max()))\n",
    "ax.legend(['생존', '사망'])\n",
    " \n",
    "plt.show()"
   ]
  },
  {
   "cell_type": "code",
   "execution_count": 214,
   "id": "32431fbc-be47-4c4b-91f4-43b49145f429",
   "metadata": {},
   "outputs": [
    {
     "data": {
      "text/plain": [
       "Index(['PassengerId', 'Survived', 'Pclass', 'Name', 'Sex', 'Age', 'SibSp',\n",
       "       'Parch', 'Ticket', 'Fare', 'Cabin', 'Embarked'],\n",
       "      dtype='object')"
      ]
     },
     "execution_count": 214,
     "metadata": {},
     "output_type": "execute_result"
    }
   ],
   "source": [
    "train.columns\n",
    "# Index(['PassengerId', 'Survived', 'Pclass', 'Name', 'Sex', 'Age', 'SibSp',\n",
    "#        'Parch', 'Ticket', 'Fare', 'Cabin', 'Embarked'], dtype='object')"
   ]
  },
  {
   "cell_type": "code",
   "execution_count": 215,
   "id": "2a76d32b-8d79-4ffc-8c86-426ef25c6bd7",
   "metadata": {
    "scrolled": true
   },
   "outputs": [
    {
     "data": {
      "text/html": [
       "<div>\n",
       "<style scoped>\n",
       "    .dataframe tbody tr th:only-of-type {\n",
       "        vertical-align: middle;\n",
       "    }\n",
       "\n",
       "    .dataframe tbody tr th {\n",
       "        vertical-align: top;\n",
       "    }\n",
       "\n",
       "    .dataframe thead th {\n",
       "        text-align: right;\n",
       "    }\n",
       "</style>\n",
       "<table border=\"1\" class=\"dataframe\">\n",
       "  <thead>\n",
       "    <tr style=\"text-align: right;\">\n",
       "      <th></th>\n",
       "      <th>PassengerId</th>\n",
       "      <th>Survived</th>\n",
       "      <th>Pclass</th>\n",
       "      <th>Age</th>\n",
       "      <th>SibSp</th>\n",
       "      <th>Parch</th>\n",
       "      <th>Fare</th>\n",
       "    </tr>\n",
       "  </thead>\n",
       "  <tbody>\n",
       "    <tr>\n",
       "      <th>PassengerId</th>\n",
       "      <td>1.000000</td>\n",
       "      <td>-0.005007</td>\n",
       "      <td>-0.035144</td>\n",
       "      <td>0.036847</td>\n",
       "      <td>-0.057527</td>\n",
       "      <td>-0.001652</td>\n",
       "      <td>0.012658</td>\n",
       "    </tr>\n",
       "    <tr>\n",
       "      <th>Survived</th>\n",
       "      <td>-0.005007</td>\n",
       "      <td>1.000000</td>\n",
       "      <td>-0.338481</td>\n",
       "      <td>-0.077221</td>\n",
       "      <td>-0.035322</td>\n",
       "      <td>0.081629</td>\n",
       "      <td>0.257307</td>\n",
       "    </tr>\n",
       "    <tr>\n",
       "      <th>Pclass</th>\n",
       "      <td>-0.035144</td>\n",
       "      <td>-0.338481</td>\n",
       "      <td>1.000000</td>\n",
       "      <td>-0.369226</td>\n",
       "      <td>0.083081</td>\n",
       "      <td>0.018443</td>\n",
       "      <td>-0.549500</td>\n",
       "    </tr>\n",
       "    <tr>\n",
       "      <th>Age</th>\n",
       "      <td>0.036847</td>\n",
       "      <td>-0.077221</td>\n",
       "      <td>-0.369226</td>\n",
       "      <td>1.000000</td>\n",
       "      <td>-0.308247</td>\n",
       "      <td>-0.189119</td>\n",
       "      <td>0.096067</td>\n",
       "    </tr>\n",
       "    <tr>\n",
       "      <th>SibSp</th>\n",
       "      <td>-0.057527</td>\n",
       "      <td>-0.035322</td>\n",
       "      <td>0.083081</td>\n",
       "      <td>-0.308247</td>\n",
       "      <td>1.000000</td>\n",
       "      <td>0.414838</td>\n",
       "      <td>0.159651</td>\n",
       "    </tr>\n",
       "    <tr>\n",
       "      <th>Parch</th>\n",
       "      <td>-0.001652</td>\n",
       "      <td>0.081629</td>\n",
       "      <td>0.018443</td>\n",
       "      <td>-0.189119</td>\n",
       "      <td>0.414838</td>\n",
       "      <td>1.000000</td>\n",
       "      <td>0.216225</td>\n",
       "    </tr>\n",
       "    <tr>\n",
       "      <th>Fare</th>\n",
       "      <td>0.012658</td>\n",
       "      <td>0.257307</td>\n",
       "      <td>-0.549500</td>\n",
       "      <td>0.096067</td>\n",
       "      <td>0.159651</td>\n",
       "      <td>0.216225</td>\n",
       "      <td>1.000000</td>\n",
       "    </tr>\n",
       "  </tbody>\n",
       "</table>\n",
       "</div>"
      ],
      "text/plain": [
       "             PassengerId  Survived    Pclass       Age     SibSp     Parch  \\\n",
       "PassengerId     1.000000 -0.005007 -0.035144  0.036847 -0.057527 -0.001652   \n",
       "Survived       -0.005007  1.000000 -0.338481 -0.077221 -0.035322  0.081629   \n",
       "Pclass         -0.035144 -0.338481  1.000000 -0.369226  0.083081  0.018443   \n",
       "Age             0.036847 -0.077221 -0.369226  1.000000 -0.308247 -0.189119   \n",
       "SibSp          -0.057527 -0.035322  0.083081 -0.308247  1.000000  0.414838   \n",
       "Parch          -0.001652  0.081629  0.018443 -0.189119  0.414838  1.000000   \n",
       "Fare            0.012658  0.257307 -0.549500  0.096067  0.159651  0.216225   \n",
       "\n",
       "                 Fare  \n",
       "PassengerId  0.012658  \n",
       "Survived     0.257307  \n",
       "Pclass      -0.549500  \n",
       "Age          0.096067  \n",
       "SibSp        0.159651  \n",
       "Parch        0.216225  \n",
       "Fare         1.000000  "
      ]
     },
     "execution_count": 215,
     "metadata": {},
     "output_type": "execute_result"
    }
   ],
   "source": [
    "train.select_dtypes(include=['number']).corr()\n"
   ]
  },
  {
   "cell_type": "code",
   "execution_count": 216,
   "id": "4cecd820-9762-4be9-895d-6962274efdb5",
   "metadata": {},
   "outputs": [
    {
     "data": {
      "text/plain": [
       "PassengerId      0\n",
       "Survived         0\n",
       "Pclass           0\n",
       "Name             0\n",
       "Sex              0\n",
       "Age            177\n",
       "SibSp            0\n",
       "Parch            0\n",
       "Ticket           0\n",
       "Fare             0\n",
       "Cabin          687\n",
       "Embarked         2\n",
       "dtype: int64"
      ]
     },
     "execution_count": 216,
     "metadata": {},
     "output_type": "execute_result"
    }
   ],
   "source": [
    "train.isnull().sum()"
   ]
  },
  {
   "cell_type": "code",
   "execution_count": 217,
   "id": "33128a8f-10e1-4843-aa5c-1e52a8e13d37",
   "metadata": {},
   "outputs": [],
   "source": [
    "data_list = [train, test]"
   ]
  },
  {
   "cell_type": "code",
   "execution_count": 218,
   "id": "08847956-2541-4f6a-894a-9b3ca1d3ed51",
   "metadata": {},
   "outputs": [
    {
     "data": {
      "text/plain": [
       "0    1\n",
       "1    0\n",
       "2    0\n",
       "3    0\n",
       "4    1\n",
       "Name: Sex, dtype: int8"
      ]
     },
     "execution_count": 218,
     "metadata": {},
     "output_type": "execute_result"
    }
   ],
   "source": [
    "# int type의 숫자 0과 1로 매핑\n",
    "for data in data_list:\n",
    "    data['Sex'] = data['Sex'].astype('category').cat.codes\n",
    "    \n",
    "train['Sex'].head()"
   ]
  },
  {
   "cell_type": "code",
   "execution_count": 219,
   "id": "a490da58-b9b8-45d8-b935-0368eafc8238",
   "metadata": {},
   "outputs": [
    {
     "data": {
      "text/plain": [
       "Sex\n",
       "0    27.915709\n",
       "1    30.726645\n",
       "Name: Age, dtype: float64"
      ]
     },
     "execution_count": 219,
     "metadata": {},
     "output_type": "execute_result"
    }
   ],
   "source": [
    "sex_mean = train.groupby('Sex')['Age'].mean()\n",
    "sex_mean"
   ]
  },
  {
   "cell_type": "code",
   "execution_count": 220,
   "id": "d4f33077-ceb6-4de1-b41e-4974e709de80",
   "metadata": {},
   "outputs": [
    {
     "data": {
      "text/plain": [
       "PassengerId      0\n",
       "Survived         0\n",
       "Pclass           0\n",
       "Name             0\n",
       "Sex              0\n",
       "Age              0\n",
       "SibSp            0\n",
       "Parch            0\n",
       "Ticket           0\n",
       "Fare             0\n",
       "Cabin          687\n",
       "Embarked         2\n",
       "dtype: int64"
      ]
     },
     "execution_count": 220,
     "metadata": {},
     "output_type": "execute_result"
    }
   ],
   "source": [
    "# Age 결측치 처리\n",
    "for data in data_list:\n",
    "    data.loc[(data['Sex'] == 0) & (data['Age'].isnull()), 'Age'] = sex_mean[0]\n",
    "    data.loc[(data['Sex'] == 1) & (data['Age'].isnull()), 'Age'] = sex_mean[1]\n",
    "    \n",
    "train.isnull().sum()"
   ]
  },
  {
   "cell_type": "code",
   "execution_count": 221,
   "id": "3be2f867-4ce1-4ece-b087-51993daa9516",
   "metadata": {},
   "outputs": [
    {
     "data": {
      "text/html": [
       "<div>\n",
       "<style scoped>\n",
       "    .dataframe tbody tr th:only-of-type {\n",
       "        vertical-align: middle;\n",
       "    }\n",
       "\n",
       "    .dataframe tbody tr th {\n",
       "        vertical-align: top;\n",
       "    }\n",
       "\n",
       "    .dataframe thead th {\n",
       "        text-align: right;\n",
       "    }\n",
       "</style>\n",
       "<table border=\"1\" class=\"dataframe\">\n",
       "  <thead>\n",
       "    <tr style=\"text-align: right;\">\n",
       "      <th></th>\n",
       "      <th>Survived</th>\n",
       "    </tr>\n",
       "    <tr>\n",
       "      <th>AgeRange</th>\n",
       "      <th></th>\n",
       "    </tr>\n",
       "  </thead>\n",
       "  <tbody>\n",
       "    <tr>\n",
       "      <th>(0.34, 16.336]</th>\n",
       "      <td>0.550000</td>\n",
       "    </tr>\n",
       "    <tr>\n",
       "      <th>(16.336, 32.252]</th>\n",
       "      <td>0.344168</td>\n",
       "    </tr>\n",
       "    <tr>\n",
       "      <th>(32.252, 48.168]</th>\n",
       "      <td>0.404255</td>\n",
       "    </tr>\n",
       "    <tr>\n",
       "      <th>(48.168, 64.084]</th>\n",
       "      <td>0.434783</td>\n",
       "    </tr>\n",
       "    <tr>\n",
       "      <th>(64.084, 80.0]</th>\n",
       "      <td>0.090909</td>\n",
       "    </tr>\n",
       "  </tbody>\n",
       "</table>\n",
       "</div>"
      ],
      "text/plain": [
       "                  Survived\n",
       "AgeRange                  \n",
       "(0.34, 16.336]    0.550000\n",
       "(16.336, 32.252]  0.344168\n",
       "(32.252, 48.168]  0.404255\n",
       "(48.168, 64.084]  0.434783\n",
       "(64.084, 80.0]    0.090909"
      ]
     },
     "execution_count": 221,
     "metadata": {},
     "output_type": "execute_result"
    }
   ],
   "source": [
    "# 카테고리화\n",
    "train['AgeRange'] = pd.cut(train['Age'], 5)\n",
    "train[['AgeRange', 'Survived']].groupby(['AgeRange']).mean()"
   ]
  },
  {
   "cell_type": "code",
   "execution_count": 222,
   "id": "e40a0784-35b3-4c9a-9377-18838620f998",
   "metadata": {},
   "outputs": [
    {
     "data": {
      "text/html": [
       "<div>\n",
       "<style scoped>\n",
       "    .dataframe tbody tr th:only-of-type {\n",
       "        vertical-align: middle;\n",
       "    }\n",
       "\n",
       "    .dataframe tbody tr th {\n",
       "        vertical-align: top;\n",
       "    }\n",
       "\n",
       "    .dataframe thead th {\n",
       "        text-align: right;\n",
       "    }\n",
       "</style>\n",
       "<table border=\"1\" class=\"dataframe\">\n",
       "  <thead>\n",
       "    <tr style=\"text-align: right;\">\n",
       "      <th></th>\n",
       "      <th>PassengerId</th>\n",
       "      <th>Survived</th>\n",
       "      <th>Pclass</th>\n",
       "      <th>Name</th>\n",
       "      <th>Sex</th>\n",
       "      <th>Age</th>\n",
       "      <th>SibSp</th>\n",
       "      <th>Parch</th>\n",
       "      <th>Ticket</th>\n",
       "      <th>Fare</th>\n",
       "      <th>Cabin</th>\n",
       "      <th>Embarked</th>\n",
       "    </tr>\n",
       "  </thead>\n",
       "  <tbody>\n",
       "    <tr>\n",
       "      <th>0</th>\n",
       "      <td>1</td>\n",
       "      <td>0</td>\n",
       "      <td>3</td>\n",
       "      <td>Braund, Mr. Owen Harris</td>\n",
       "      <td>1</td>\n",
       "      <td>1.0</td>\n",
       "      <td>1</td>\n",
       "      <td>0</td>\n",
       "      <td>A/5 21171</td>\n",
       "      <td>7.2500</td>\n",
       "      <td>NaN</td>\n",
       "      <td>S</td>\n",
       "    </tr>\n",
       "    <tr>\n",
       "      <th>1</th>\n",
       "      <td>2</td>\n",
       "      <td>1</td>\n",
       "      <td>1</td>\n",
       "      <td>Cumings, Mrs. John Bradley (Florence Briggs Th...</td>\n",
       "      <td>0</td>\n",
       "      <td>2.0</td>\n",
       "      <td>1</td>\n",
       "      <td>0</td>\n",
       "      <td>PC 17599</td>\n",
       "      <td>71.2833</td>\n",
       "      <td>C85</td>\n",
       "      <td>C</td>\n",
       "    </tr>\n",
       "    <tr>\n",
       "      <th>2</th>\n",
       "      <td>3</td>\n",
       "      <td>1</td>\n",
       "      <td>3</td>\n",
       "      <td>Heikkinen, Miss. Laina</td>\n",
       "      <td>0</td>\n",
       "      <td>1.0</td>\n",
       "      <td>0</td>\n",
       "      <td>0</td>\n",
       "      <td>STON/O2. 3101282</td>\n",
       "      <td>7.9250</td>\n",
       "      <td>NaN</td>\n",
       "      <td>S</td>\n",
       "    </tr>\n",
       "    <tr>\n",
       "      <th>3</th>\n",
       "      <td>4</td>\n",
       "      <td>1</td>\n",
       "      <td>1</td>\n",
       "      <td>Futrelle, Mrs. Jacques Heath (Lily May Peel)</td>\n",
       "      <td>0</td>\n",
       "      <td>2.0</td>\n",
       "      <td>1</td>\n",
       "      <td>0</td>\n",
       "      <td>113803</td>\n",
       "      <td>53.1000</td>\n",
       "      <td>C123</td>\n",
       "      <td>S</td>\n",
       "    </tr>\n",
       "    <tr>\n",
       "      <th>4</th>\n",
       "      <td>5</td>\n",
       "      <td>0</td>\n",
       "      <td>3</td>\n",
       "      <td>Allen, Mr. William Henry</td>\n",
       "      <td>1</td>\n",
       "      <td>2.0</td>\n",
       "      <td>0</td>\n",
       "      <td>0</td>\n",
       "      <td>373450</td>\n",
       "      <td>8.0500</td>\n",
       "      <td>NaN</td>\n",
       "      <td>S</td>\n",
       "    </tr>\n",
       "  </tbody>\n",
       "</table>\n",
       "</div>"
      ],
      "text/plain": [
       "   PassengerId  Survived  Pclass  \\\n",
       "0            1         0       3   \n",
       "1            2         1       1   \n",
       "2            3         1       3   \n",
       "3            4         1       1   \n",
       "4            5         0       3   \n",
       "\n",
       "                                                Name  Sex  Age  SibSp  Parch  \\\n",
       "0                            Braund, Mr. Owen Harris    1  1.0      1      0   \n",
       "1  Cumings, Mrs. John Bradley (Florence Briggs Th...    0  2.0      1      0   \n",
       "2                             Heikkinen, Miss. Laina    0  1.0      0      0   \n",
       "3       Futrelle, Mrs. Jacques Heath (Lily May Peel)    0  2.0      1      0   \n",
       "4                           Allen, Mr. William Henry    1  2.0      0      0   \n",
       "\n",
       "             Ticket     Fare Cabin Embarked  \n",
       "0         A/5 21171   7.2500   NaN        S  \n",
       "1          PC 17599  71.2833   C85        C  \n",
       "2  STON/O2. 3101282   7.9250   NaN        S  \n",
       "3            113803  53.1000  C123        S  \n",
       "4            373450   8.0500   NaN        S  "
      ]
     },
     "execution_count": 222,
     "metadata": {},
     "output_type": "execute_result"
    }
   ],
   "source": [
    "for data in data_list:    \n",
    "    data.loc[ data['Age'] <= 16, 'Age'] = 0\n",
    "    data.loc[(data['Age'] > 16) & (data['Age'] <= 32), 'Age'] = 1\n",
    "    data.loc[(data['Age'] > 32) & (data['Age'] <= 48), 'Age'] = 2\n",
    "    data.loc[(data['Age'] > 48) & (data['Age'] <= 64), 'Age'] = 3\n",
    "    data.loc[ data['Age'] > 64, 'Age'] = 4\n",
    "train.drop('AgeRange', inplace=True, axis=1)\n",
    "train.head()"
   ]
  },
  {
   "cell_type": "code",
   "execution_count": 223,
   "id": "a08f7456-416f-48d3-a24d-ab1c694c4a47",
   "metadata": {},
   "outputs": [
    {
     "data": {
      "text/plain": [
       "Title\n",
       "Mr          517\n",
       "Miss        182\n",
       "Mrs         125\n",
       "Master       40\n",
       "Dr            7\n",
       "Rev           6\n",
       "Mlle          2\n",
       "Major         2\n",
       "Col           2\n",
       "Countess      1\n",
       "Capt          1\n",
       "Ms            1\n",
       "Sir           1\n",
       "Lady          1\n",
       "Mme           1\n",
       "Don           1\n",
       "Jonkheer      1\n",
       "Name: count, dtype: int64"
      ]
     },
     "execution_count": 223,
     "metadata": {},
     "output_type": "execute_result"
    }
   ],
   "source": [
    "train['Title'] = train['Name'].str.extract(' ([A-Za-z]+)\\.', expand=False)\n",
    "train['Title'].value_counts()"
   ]
  },
  {
   "cell_type": "code",
   "execution_count": 224,
   "id": "24fcbdaf-8cd0-4d61-8b54-0436beb80aae",
   "metadata": {},
   "outputs": [],
   "source": [
    "for data in data_list:\n",
    "    data['Title'] = data['Name'].str.extract(' ([A-Za-z]+)\\.', expand=False)\n",
    "    data['Title'] = data['Title'].replace(['Dr', 'Rev', 'Mlle', 'Major', 'Col', 'Countess',\n",
    "                                        'Capt', 'Ms', 'Sir', 'Lady', 'Mme', 'Don', 'Jonkheer'], 'Other')\n",
    "    # -> 범주형 -> 수치형\n",
    "    data['Title_name'] = data['Title'].astype('category').cat.codes"
   ]
  },
  {
   "cell_type": "code",
   "execution_count": 225,
   "id": "3a962966-ac1b-4a1b-bad1-451e8e1e9f1b",
   "metadata": {},
   "outputs": [
    {
     "data": {
      "text/html": [
       "<div>\n",
       "<style scoped>\n",
       "    .dataframe tbody tr th:only-of-type {\n",
       "        vertical-align: middle;\n",
       "    }\n",
       "\n",
       "    .dataframe tbody tr th {\n",
       "        vertical-align: top;\n",
       "    }\n",
       "\n",
       "    .dataframe thead th {\n",
       "        text-align: right;\n",
       "    }\n",
       "</style>\n",
       "<table border=\"1\" class=\"dataframe\">\n",
       "  <thead>\n",
       "    <tr style=\"text-align: right;\">\n",
       "      <th></th>\n",
       "      <th>Survived</th>\n",
       "    </tr>\n",
       "    <tr>\n",
       "      <th>Title</th>\n",
       "      <th></th>\n",
       "    </tr>\n",
       "  </thead>\n",
       "  <tbody>\n",
       "    <tr>\n",
       "      <th>Master</th>\n",
       "      <td>0.575000</td>\n",
       "    </tr>\n",
       "    <tr>\n",
       "      <th>Miss</th>\n",
       "      <td>0.697802</td>\n",
       "    </tr>\n",
       "    <tr>\n",
       "      <th>Mr</th>\n",
       "      <td>0.156673</td>\n",
       "    </tr>\n",
       "    <tr>\n",
       "      <th>Mrs</th>\n",
       "      <td>0.792000</td>\n",
       "    </tr>\n",
       "    <tr>\n",
       "      <th>Other</th>\n",
       "      <td>0.444444</td>\n",
       "    </tr>\n",
       "  </tbody>\n",
       "</table>\n",
       "</div>"
      ],
      "text/plain": [
       "        Survived\n",
       "Title           \n",
       "Master  0.575000\n",
       "Miss    0.697802\n",
       "Mr      0.156673\n",
       "Mrs     0.792000\n",
       "Other   0.444444"
      ]
     },
     "execution_count": 225,
     "metadata": {},
     "output_type": "execute_result"
    }
   ],
   "source": [
    "train[['Title', 'Survived']].groupby(['Title']).mean()"
   ]
  },
  {
   "cell_type": "code",
   "execution_count": 226,
   "id": "2a86012d-36d7-4d58-ab00-b1ca60670e3f",
   "metadata": {},
   "outputs": [
    {
     "data": {
      "text/html": [
       "<div>\n",
       "<style scoped>\n",
       "    .dataframe tbody tr th:only-of-type {\n",
       "        vertical-align: middle;\n",
       "    }\n",
       "\n",
       "    .dataframe tbody tr th {\n",
       "        vertical-align: top;\n",
       "    }\n",
       "\n",
       "    .dataframe thead th {\n",
       "        text-align: right;\n",
       "    }\n",
       "</style>\n",
       "<table border=\"1\" class=\"dataframe\">\n",
       "  <thead>\n",
       "    <tr style=\"text-align: right;\">\n",
       "      <th></th>\n",
       "      <th>PassengerId</th>\n",
       "      <th>Survived</th>\n",
       "      <th>Pclass</th>\n",
       "      <th>Sex</th>\n",
       "      <th>Age</th>\n",
       "      <th>SibSp</th>\n",
       "      <th>Parch</th>\n",
       "      <th>Ticket</th>\n",
       "      <th>Fare</th>\n",
       "      <th>Cabin</th>\n",
       "      <th>Embarked</th>\n",
       "      <th>Title_name</th>\n",
       "    </tr>\n",
       "  </thead>\n",
       "  <tbody>\n",
       "    <tr>\n",
       "      <th>0</th>\n",
       "      <td>1</td>\n",
       "      <td>0</td>\n",
       "      <td>3</td>\n",
       "      <td>1</td>\n",
       "      <td>1.0</td>\n",
       "      <td>1</td>\n",
       "      <td>0</td>\n",
       "      <td>A/5 21171</td>\n",
       "      <td>7.2500</td>\n",
       "      <td>NaN</td>\n",
       "      <td>S</td>\n",
       "      <td>2</td>\n",
       "    </tr>\n",
       "    <tr>\n",
       "      <th>1</th>\n",
       "      <td>2</td>\n",
       "      <td>1</td>\n",
       "      <td>1</td>\n",
       "      <td>0</td>\n",
       "      <td>2.0</td>\n",
       "      <td>1</td>\n",
       "      <td>0</td>\n",
       "      <td>PC 17599</td>\n",
       "      <td>71.2833</td>\n",
       "      <td>C85</td>\n",
       "      <td>C</td>\n",
       "      <td>3</td>\n",
       "    </tr>\n",
       "    <tr>\n",
       "      <th>2</th>\n",
       "      <td>3</td>\n",
       "      <td>1</td>\n",
       "      <td>3</td>\n",
       "      <td>0</td>\n",
       "      <td>1.0</td>\n",
       "      <td>0</td>\n",
       "      <td>0</td>\n",
       "      <td>STON/O2. 3101282</td>\n",
       "      <td>7.9250</td>\n",
       "      <td>NaN</td>\n",
       "      <td>S</td>\n",
       "      <td>1</td>\n",
       "    </tr>\n",
       "    <tr>\n",
       "      <th>3</th>\n",
       "      <td>4</td>\n",
       "      <td>1</td>\n",
       "      <td>1</td>\n",
       "      <td>0</td>\n",
       "      <td>2.0</td>\n",
       "      <td>1</td>\n",
       "      <td>0</td>\n",
       "      <td>113803</td>\n",
       "      <td>53.1000</td>\n",
       "      <td>C123</td>\n",
       "      <td>S</td>\n",
       "      <td>3</td>\n",
       "    </tr>\n",
       "    <tr>\n",
       "      <th>4</th>\n",
       "      <td>5</td>\n",
       "      <td>0</td>\n",
       "      <td>3</td>\n",
       "      <td>1</td>\n",
       "      <td>2.0</td>\n",
       "      <td>0</td>\n",
       "      <td>0</td>\n",
       "      <td>373450</td>\n",
       "      <td>8.0500</td>\n",
       "      <td>NaN</td>\n",
       "      <td>S</td>\n",
       "      <td>2</td>\n",
       "    </tr>\n",
       "  </tbody>\n",
       "</table>\n",
       "</div>"
      ],
      "text/plain": [
       "   PassengerId  Survived  Pclass  Sex  Age  SibSp  Parch            Ticket  \\\n",
       "0            1         0       3    1  1.0      1      0         A/5 21171   \n",
       "1            2         1       1    0  2.0      1      0          PC 17599   \n",
       "2            3         1       3    0  1.0      0      0  STON/O2. 3101282   \n",
       "3            4         1       1    0  2.0      1      0            113803   \n",
       "4            5         0       3    1  2.0      0      0            373450   \n",
       "\n",
       "      Fare Cabin Embarked  Title_name  \n",
       "0   7.2500   NaN        S           2  \n",
       "1  71.2833   C85        C           3  \n",
       "2   7.9250   NaN        S           1  \n",
       "3  53.1000  C123        S           3  \n",
       "4   8.0500   NaN        S           2  "
      ]
     },
     "execution_count": 226,
     "metadata": {},
     "output_type": "execute_result"
    }
   ],
   "source": [
    "# 불필요한 데이터 지우기\n",
    "train.drop(['Name', 'Title'], axis=1, inplace = True)\n",
    "test.drop(['Name', 'Title'], axis=1, inplace = True)\n",
    "train.head()"
   ]
  },
  {
   "cell_type": "code",
   "execution_count": 227,
   "id": "4ca059b6-43f5-4a06-b363-895c0e463373",
   "metadata": {},
   "outputs": [
    {
     "data": {
      "text/html": [
       "<div>\n",
       "<style scoped>\n",
       "    .dataframe tbody tr th:only-of-type {\n",
       "        vertical-align: middle;\n",
       "    }\n",
       "\n",
       "    .dataframe tbody tr th {\n",
       "        vertical-align: top;\n",
       "    }\n",
       "\n",
       "    .dataframe thead th {\n",
       "        text-align: right;\n",
       "    }\n",
       "</style>\n",
       "<table border=\"1\" class=\"dataframe\">\n",
       "  <thead>\n",
       "    <tr style=\"text-align: right;\">\n",
       "      <th></th>\n",
       "      <th>PassengerId</th>\n",
       "      <th>Survived</th>\n",
       "      <th>Pclass</th>\n",
       "      <th>Sex</th>\n",
       "      <th>Age</th>\n",
       "      <th>SibSp</th>\n",
       "      <th>Parch</th>\n",
       "      <th>Ticket</th>\n",
       "      <th>Fare</th>\n",
       "      <th>Cabin</th>\n",
       "      <th>Embarked</th>\n",
       "      <th>Title_name</th>\n",
       "      <th>FamilySize</th>\n",
       "    </tr>\n",
       "  </thead>\n",
       "  <tbody>\n",
       "    <tr>\n",
       "      <th>0</th>\n",
       "      <td>1</td>\n",
       "      <td>0</td>\n",
       "      <td>3</td>\n",
       "      <td>1</td>\n",
       "      <td>1.0</td>\n",
       "      <td>1</td>\n",
       "      <td>0</td>\n",
       "      <td>A/5 21171</td>\n",
       "      <td>7.2500</td>\n",
       "      <td>NaN</td>\n",
       "      <td>S</td>\n",
       "      <td>2</td>\n",
       "      <td>2</td>\n",
       "    </tr>\n",
       "    <tr>\n",
       "      <th>1</th>\n",
       "      <td>2</td>\n",
       "      <td>1</td>\n",
       "      <td>1</td>\n",
       "      <td>0</td>\n",
       "      <td>2.0</td>\n",
       "      <td>1</td>\n",
       "      <td>0</td>\n",
       "      <td>PC 17599</td>\n",
       "      <td>71.2833</td>\n",
       "      <td>C85</td>\n",
       "      <td>C</td>\n",
       "      <td>3</td>\n",
       "      <td>2</td>\n",
       "    </tr>\n",
       "    <tr>\n",
       "      <th>2</th>\n",
       "      <td>3</td>\n",
       "      <td>1</td>\n",
       "      <td>3</td>\n",
       "      <td>0</td>\n",
       "      <td>1.0</td>\n",
       "      <td>0</td>\n",
       "      <td>0</td>\n",
       "      <td>STON/O2. 3101282</td>\n",
       "      <td>7.9250</td>\n",
       "      <td>NaN</td>\n",
       "      <td>S</td>\n",
       "      <td>1</td>\n",
       "      <td>1</td>\n",
       "    </tr>\n",
       "    <tr>\n",
       "      <th>3</th>\n",
       "      <td>4</td>\n",
       "      <td>1</td>\n",
       "      <td>1</td>\n",
       "      <td>0</td>\n",
       "      <td>2.0</td>\n",
       "      <td>1</td>\n",
       "      <td>0</td>\n",
       "      <td>113803</td>\n",
       "      <td>53.1000</td>\n",
       "      <td>C123</td>\n",
       "      <td>S</td>\n",
       "      <td>3</td>\n",
       "      <td>2</td>\n",
       "    </tr>\n",
       "    <tr>\n",
       "      <th>4</th>\n",
       "      <td>5</td>\n",
       "      <td>0</td>\n",
       "      <td>3</td>\n",
       "      <td>1</td>\n",
       "      <td>2.0</td>\n",
       "      <td>0</td>\n",
       "      <td>0</td>\n",
       "      <td>373450</td>\n",
       "      <td>8.0500</td>\n",
       "      <td>NaN</td>\n",
       "      <td>S</td>\n",
       "      <td>2</td>\n",
       "      <td>1</td>\n",
       "    </tr>\n",
       "  </tbody>\n",
       "</table>\n",
       "</div>"
      ],
      "text/plain": [
       "   PassengerId  Survived  Pclass  Sex  Age  SibSp  Parch            Ticket  \\\n",
       "0            1         0       3    1  1.0      1      0         A/5 21171   \n",
       "1            2         1       1    0  2.0      1      0          PC 17599   \n",
       "2            3         1       3    0  1.0      0      0  STON/O2. 3101282   \n",
       "3            4         1       1    0  2.0      1      0            113803   \n",
       "4            5         0       3    1  2.0      0      0            373450   \n",
       "\n",
       "      Fare Cabin Embarked  Title_name  FamilySize  \n",
       "0   7.2500   NaN        S           2           2  \n",
       "1  71.2833   C85        C           3           2  \n",
       "2   7.9250   NaN        S           1           1  \n",
       "3  53.1000  C123        S           3           2  \n",
       "4   8.0500   NaN        S           2           1  "
      ]
     },
     "execution_count": 227,
     "metadata": {},
     "output_type": "execute_result"
    }
   ],
   "source": [
    "train['FamilySize'] = train['SibSp'] + train['Parch'] + 1\n",
    "test['FamilySize'] = train['SibSp'] + train['Parch'] + 1\n",
    "train.head()"
   ]
  },
  {
   "cell_type": "code",
   "execution_count": 228,
   "id": "e4e22071-6b0f-4c3b-8125-6efada7d78b8",
   "metadata": {},
   "outputs": [
    {
     "data": {
      "text/plain": [
       "<Axes: xlabel='FamilySize', ylabel='count'>"
      ]
     },
     "execution_count": 228,
     "metadata": {},
     "output_type": "execute_result"
    },
    {
     "data": {
      "image/png": "[encoded data removed]",
      "text/plain": [
       "<Figure size 640x480 with 1 Axes>"
      ]
     },
     "metadata": {},
     "output_type": "display_data"
    }
   ],
   "source": [
    "pd.pivot_table(train, index='FamilySize', values='Survived')\n",
    "sns.countplot(data=train, x='FamilySize', hue='Survived')"
   ]
  },
  {
   "cell_type": "code",
   "execution_count": 229,
   "id": "759da31a-439d-41b3-b4d1-52388475ae9c",
   "metadata": {},
   "outputs": [],
   "source": [
    "#컬럼 제거\n",
    "drop_list = ['SibSp', 'Parch']\n",
    "for data in data_list:\n",
    "    data.drop(drop_list, inplace=True, axis=1)"
   ]
  },
  {
   "cell_type": "code",
   "execution_count": 230,
   "id": "2798aea2-e8f0-4bc5-8c6d-5d3b04d51cfd",
   "metadata": {},
   "outputs": [
    {
     "data": {
      "text/plain": [
       "Embarked\n",
       "S    644\n",
       "C    168\n",
       "Q     77\n",
       "Name: count, dtype: int64"
      ]
     },
     "execution_count": 230,
     "metadata": {},
     "output_type": "execute_result"
    }
   ],
   "source": [
    "train['Embarked'].value_counts()"
   ]
  },
  {
   "cell_type": "code",
   "execution_count": 231,
   "id": "d96a3b7b-779b-4ab7-bc56-31a58627c84f",
   "metadata": {},
   "outputs": [
    {
     "data": {
      "text/plain": [
       "<Axes: xlabel='Embarked', ylabel='count'>"
      ]
     },
     "execution_count": 231,
     "metadata": {},
     "output_type": "execute_result"
    },
    {
     "data": {
      "image/png": "[encoded data removed]",
      "text/plain": [
       "<Figure size 640x480 with 1 Axes>"
      ]
     },
     "metadata": {},
     "output_type": "display_data"
    }
   ],
   "source": [
    "# 결측치 처리\n",
    "for data in data_list:\n",
    "    data['Embarked'] = data['Embarked'].fillna('S')\n",
    "sns.countplot(data=train, x='Embarked', hue='Survived')"
   ]
  },
  {
   "cell_type": "code",
   "execution_count": 232,
   "id": "793afff1-4310-411c-8824-56b39d5ec5a9",
   "metadata": {},
   "outputs": [],
   "source": [
    "em_mapping = {'S':0, 'C':1, 'Q':2}\n",
    "for data in data_list:\n",
    "    data['Embarked'] = data['Embarked'].map(em_mapping)"
   ]
  },
  {
   "cell_type": "code",
   "execution_count": 233,
   "id": "d719d3d5-2b96-4089-a67d-a3869e43104d",
   "metadata": {},
   "outputs": [
    {
     "data": {
      "text/plain": [
       "Cabin\n",
       "B96 B98        4\n",
       "G6             4\n",
       "C23 C25 C27    4\n",
       "C22 C26        3\n",
       "F33            3\n",
       "              ..\n",
       "E34            1\n",
       "C7             1\n",
       "C54            1\n",
       "E36            1\n",
       "C148           1\n",
       "Name: count, Length: 147, dtype: int64"
      ]
     },
     "execution_count": 233,
     "metadata": {},
     "output_type": "execute_result"
    }
   ],
   "source": [
    "train['Cabin'].value_counts()"
   ]
  },
  {
   "cell_type": "code",
   "execution_count": 234,
   "id": "f3afa33a-93d9-44d8-97dc-670373e1c2f1",
   "metadata": {},
   "outputs": [
    {
     "data": {
      "text/html": [
       "<div>\n",
       "<style scoped>\n",
       "    .dataframe tbody tr th:only-of-type {\n",
       "        vertical-align: middle;\n",
       "    }\n",
       "\n",
       "    .dataframe tbody tr th {\n",
       "        vertical-align: top;\n",
       "    }\n",
       "\n",
       "    .dataframe thead th {\n",
       "        text-align: right;\n",
       "    }\n",
       "</style>\n",
       "<table border=\"1\" class=\"dataframe\">\n",
       "  <thead>\n",
       "    <tr style=\"text-align: right;\">\n",
       "      <th></th>\n",
       "      <th>PassengerId</th>\n",
       "      <th>Survived</th>\n",
       "      <th>Pclass</th>\n",
       "      <th>Sex</th>\n",
       "      <th>Age</th>\n",
       "      <th>Ticket</th>\n",
       "      <th>Fare</th>\n",
       "      <th>Cabin</th>\n",
       "      <th>Embarked</th>\n",
       "      <th>Title_name</th>\n",
       "      <th>FamilySize</th>\n",
       "    </tr>\n",
       "  </thead>\n",
       "  <tbody>\n",
       "    <tr>\n",
       "      <th>0</th>\n",
       "      <td>1</td>\n",
       "      <td>0</td>\n",
       "      <td>3</td>\n",
       "      <td>1</td>\n",
       "      <td>1.0</td>\n",
       "      <td>A/5 21171</td>\n",
       "      <td>7.2500</td>\n",
       "      <td>7</td>\n",
       "      <td>0</td>\n",
       "      <td>2</td>\n",
       "      <td>2</td>\n",
       "    </tr>\n",
       "    <tr>\n",
       "      <th>1</th>\n",
       "      <td>2</td>\n",
       "      <td>1</td>\n",
       "      <td>1</td>\n",
       "      <td>0</td>\n",
       "      <td>2.0</td>\n",
       "      <td>PC 17599</td>\n",
       "      <td>71.2833</td>\n",
       "      <td>2</td>\n",
       "      <td>1</td>\n",
       "      <td>3</td>\n",
       "      <td>2</td>\n",
       "    </tr>\n",
       "    <tr>\n",
       "      <th>2</th>\n",
       "      <td>3</td>\n",
       "      <td>1</td>\n",
       "      <td>3</td>\n",
       "      <td>0</td>\n",
       "      <td>1.0</td>\n",
       "      <td>STON/O2. 3101282</td>\n",
       "      <td>7.9250</td>\n",
       "      <td>7</td>\n",
       "      <td>0</td>\n",
       "      <td>1</td>\n",
       "      <td>1</td>\n",
       "    </tr>\n",
       "    <tr>\n",
       "      <th>3</th>\n",
       "      <td>4</td>\n",
       "      <td>1</td>\n",
       "      <td>1</td>\n",
       "      <td>0</td>\n",
       "      <td>2.0</td>\n",
       "      <td>113803</td>\n",
       "      <td>53.1000</td>\n",
       "      <td>2</td>\n",
       "      <td>0</td>\n",
       "      <td>3</td>\n",
       "      <td>2</td>\n",
       "    </tr>\n",
       "    <tr>\n",
       "      <th>4</th>\n",
       "      <td>5</td>\n",
       "      <td>0</td>\n",
       "      <td>3</td>\n",
       "      <td>1</td>\n",
       "      <td>2.0</td>\n",
       "      <td>373450</td>\n",
       "      <td>8.0500</td>\n",
       "      <td>7</td>\n",
       "      <td>0</td>\n",
       "      <td>2</td>\n",
       "      <td>1</td>\n",
       "    </tr>\n",
       "  </tbody>\n",
       "</table>\n",
       "</div>"
      ],
      "text/plain": [
       "   PassengerId  Survived  Pclass  Sex  Age            Ticket     Fare  Cabin  \\\n",
       "0            1         0       3    1  1.0         A/5 21171   7.2500      7   \n",
       "1            2         1       1    0  2.0          PC 17599  71.2833      2   \n",
       "2            3         1       3    0  1.0  STON/O2. 3101282   7.9250      7   \n",
       "3            4         1       1    0  2.0            113803  53.1000      2   \n",
       "4            5         0       3    1  2.0            373450   8.0500      7   \n",
       "\n",
       "   Embarked  Title_name  FamilySize  \n",
       "0         0           2           2  \n",
       "1         1           3           2  \n",
       "2         0           1           1  \n",
       "3         0           3           2  \n",
       "4         0           2           1  "
      ]
     },
     "execution_count": 234,
     "metadata": {},
     "output_type": "execute_result"
    }
   ],
   "source": [
    "for data in data_list:\n",
    "    data['Cabin'] = data['Cabin'].fillna('N')\n",
    "    data['Cabin'] = data['Cabin'].apply(lambda x:x[0])\n",
    "    data['Cabin'] = data['Cabin'].astype('category').cat.codes\n",
    "train.head()"
   ]
  },
  {
   "cell_type": "code",
   "execution_count": 235,
   "id": "c90ccc69-f09f-448f-8ab4-7d1e129c78a0",
   "metadata": {},
   "outputs": [
    {
     "data": {
      "text/html": [
       "<div>\n",
       "<style scoped>\n",
       "    .dataframe tbody tr th:only-of-type {\n",
       "        vertical-align: middle;\n",
       "    }\n",
       "\n",
       "    .dataframe tbody tr th {\n",
       "        vertical-align: top;\n",
       "    }\n",
       "\n",
       "    .dataframe thead th {\n",
       "        text-align: right;\n",
       "    }\n",
       "</style>\n",
       "<table border=\"1\" class=\"dataframe\">\n",
       "  <thead>\n",
       "    <tr style=\"text-align: right;\">\n",
       "      <th></th>\n",
       "      <th>Survived</th>\n",
       "    </tr>\n",
       "    <tr>\n",
       "      <th>Farerange</th>\n",
       "      <th></th>\n",
       "    </tr>\n",
       "  </thead>\n",
       "  <tbody>\n",
       "    <tr>\n",
       "      <th>(-0.512, 128.082]</th>\n",
       "      <td>0.368113</td>\n",
       "    </tr>\n",
       "    <tr>\n",
       "      <th>(128.082, 256.165]</th>\n",
       "      <td>0.724138</td>\n",
       "    </tr>\n",
       "    <tr>\n",
       "      <th>(256.165, 384.247]</th>\n",
       "      <td>0.666667</td>\n",
       "    </tr>\n",
       "    <tr>\n",
       "      <th>(384.247, 512.329]</th>\n",
       "      <td>1.000000</td>\n",
       "    </tr>\n",
       "  </tbody>\n",
       "</table>\n",
       "</div>"
      ],
      "text/plain": [
       "                    Survived\n",
       "Farerange                   \n",
       "(-0.512, 128.082]   0.368113\n",
       "(128.082, 256.165]  0.724138\n",
       "(256.165, 384.247]  0.666667\n",
       "(384.247, 512.329]  1.000000"
      ]
     },
     "execution_count": 235,
     "metadata": {},
     "output_type": "execute_result"
    }
   ],
   "source": [
    "# 카테고리화\n",
    "for data in data_list:\n",
    "    data['Farerange'] = pd.cut(data['Fare'], 4)\n",
    "train[['Farerange', 'Survived']].groupby(['Farerange']).mean()"
   ]
  },
  {
   "cell_type": "code",
   "execution_count": 236,
   "id": "42b56304-ab9c-4de9-add9-93d0d48f183c",
   "metadata": {},
   "outputs": [
    {
     "data": {
      "text/html": [
       "<div>\n",
       "<style scoped>\n",
       "    .dataframe tbody tr th:only-of-type {\n",
       "        vertical-align: middle;\n",
       "    }\n",
       "\n",
       "    .dataframe tbody tr th {\n",
       "        vertical-align: top;\n",
       "    }\n",
       "\n",
       "    .dataframe thead th {\n",
       "        text-align: right;\n",
       "    }\n",
       "</style>\n",
       "<table border=\"1\" class=\"dataframe\">\n",
       "  <thead>\n",
       "    <tr style=\"text-align: right;\">\n",
       "      <th></th>\n",
       "      <th>PassengerId</th>\n",
       "      <th>Survived</th>\n",
       "      <th>Pclass</th>\n",
       "      <th>Sex</th>\n",
       "      <th>Age</th>\n",
       "      <th>Ticket</th>\n",
       "      <th>Fare</th>\n",
       "      <th>Cabin</th>\n",
       "      <th>Embarked</th>\n",
       "      <th>Title_name</th>\n",
       "      <th>FamilySize</th>\n",
       "      <th>Farerange</th>\n",
       "    </tr>\n",
       "  </thead>\n",
       "  <tbody>\n",
       "    <tr>\n",
       "      <th>0</th>\n",
       "      <td>1</td>\n",
       "      <td>0</td>\n",
       "      <td>3</td>\n",
       "      <td>1</td>\n",
       "      <td>1.0</td>\n",
       "      <td>A/5 21171</td>\n",
       "      <td>0.0</td>\n",
       "      <td>7</td>\n",
       "      <td>0</td>\n",
       "      <td>2</td>\n",
       "      <td>2</td>\n",
       "      <td>(-0.512, 128.082]</td>\n",
       "    </tr>\n",
       "    <tr>\n",
       "      <th>1</th>\n",
       "      <td>2</td>\n",
       "      <td>1</td>\n",
       "      <td>1</td>\n",
       "      <td>0</td>\n",
       "      <td>2.0</td>\n",
       "      <td>PC 17599</td>\n",
       "      <td>0.0</td>\n",
       "      <td>2</td>\n",
       "      <td>1</td>\n",
       "      <td>3</td>\n",
       "      <td>2</td>\n",
       "      <td>(-0.512, 128.082]</td>\n",
       "    </tr>\n",
       "    <tr>\n",
       "      <th>2</th>\n",
       "      <td>3</td>\n",
       "      <td>1</td>\n",
       "      <td>3</td>\n",
       "      <td>0</td>\n",
       "      <td>1.0</td>\n",
       "      <td>STON/O2. 3101282</td>\n",
       "      <td>0.0</td>\n",
       "      <td>7</td>\n",
       "      <td>0</td>\n",
       "      <td>1</td>\n",
       "      <td>1</td>\n",
       "      <td>(-0.512, 128.082]</td>\n",
       "    </tr>\n",
       "    <tr>\n",
       "      <th>3</th>\n",
       "      <td>4</td>\n",
       "      <td>1</td>\n",
       "      <td>1</td>\n",
       "      <td>0</td>\n",
       "      <td>2.0</td>\n",
       "      <td>113803</td>\n",
       "      <td>0.0</td>\n",
       "      <td>2</td>\n",
       "      <td>0</td>\n",
       "      <td>3</td>\n",
       "      <td>2</td>\n",
       "      <td>(-0.512, 128.082]</td>\n",
       "    </tr>\n",
       "    <tr>\n",
       "      <th>4</th>\n",
       "      <td>5</td>\n",
       "      <td>0</td>\n",
       "      <td>3</td>\n",
       "      <td>1</td>\n",
       "      <td>2.0</td>\n",
       "      <td>373450</td>\n",
       "      <td>0.0</td>\n",
       "      <td>7</td>\n",
       "      <td>0</td>\n",
       "      <td>2</td>\n",
       "      <td>1</td>\n",
       "      <td>(-0.512, 128.082]</td>\n",
       "    </tr>\n",
       "  </tbody>\n",
       "</table>\n",
       "</div>"
      ],
      "text/plain": [
       "   PassengerId  Survived  Pclass  Sex  Age            Ticket  Fare  Cabin  \\\n",
       "0            1         0       3    1  1.0         A/5 21171   0.0      7   \n",
       "1            2         1       1    0  2.0          PC 17599   0.0      2   \n",
       "2            3         1       3    0  1.0  STON/O2. 3101282   0.0      7   \n",
       "3            4         1       1    0  2.0            113803   0.0      2   \n",
       "4            5         0       3    1  2.0            373450   0.0      7   \n",
       "\n",
       "   Embarked  Title_name  FamilySize          Farerange  \n",
       "0         0           2           2  (-0.512, 128.082]  \n",
       "1         1           3           2  (-0.512, 128.082]  \n",
       "2         0           1           1  (-0.512, 128.082]  \n",
       "3         0           3           2  (-0.512, 128.082]  \n",
       "4         0           2           1  (-0.512, 128.082]  "
      ]
     },
     "execution_count": 236,
     "metadata": {},
     "output_type": "execute_result"
    }
   ],
   "source": [
    "for data in data_list:    \n",
    "    data.loc[data['Fare'] <= 128, 'Fare'] = 0\n",
    "    data.loc[(data['Fare'] > 128) & (data['Fare'] <= 256), 'Fare'] = 1\n",
    "    data.loc[(data['Fare'] > 256) & (data['Fare'] <= 384), 'Fare'] = 2\n",
    "    data.loc[data['Fare'] > 384, 'Fare'] = 3\n",
    "\n",
    "train.head()"
   ]
  },
  {
   "cell_type": "code",
   "execution_count": 237,
   "id": "f55ca5d8-3792-4516-b925-d8b3c7cdae04",
   "metadata": {},
   "outputs": [],
   "source": [
    "# 컬럼 지우기\n",
    "for data in data_list:\n",
    "    data.drop('Farerange', axis=1, inplace=True)"
   ]
  },
  {
   "cell_type": "code",
   "execution_count": 238,
   "id": "66299522-b164-4668-a8f0-06f4c1a9dfb2",
   "metadata": {},
   "outputs": [],
   "source": [
    "drop_list = ['PassengerId', 'Ticket']\n",
    "for data in data_list:\n",
    "    data.drop(drop_list, inplace=True, axis=1)\n",
    "    \n",
    "for data in data_list:\n",
    "    data.drop('Cabin', inplace=True, axis=1)"
   ]
  },
  {
   "cell_type": "code",
   "execution_count": 239,
   "id": "502a0f00-f179-49de-b9f7-b1a7c4563880",
   "metadata": {},
   "outputs": [],
   "source": [
    "test[test['Fare'].isnull()] = test['Fare'].mean()"
   ]
  },
  {
   "cell_type": "code",
   "execution_count": 240,
   "id": "9eaa809b-4c85-49d8-8e19-25913a25a374",
   "metadata": {},
   "outputs": [
    {
     "data": {
      "text/html": [
       "<div>\n",
       "<style scoped>\n",
       "    .dataframe tbody tr th:only-of-type {\n",
       "        vertical-align: middle;\n",
       "    }\n",
       "\n",
       "    .dataframe tbody tr th {\n",
       "        vertical-align: top;\n",
       "    }\n",
       "\n",
       "    .dataframe thead th {\n",
       "        text-align: right;\n",
       "    }\n",
       "</style>\n",
       "<table border=\"1\" class=\"dataframe\">\n",
       "  <thead>\n",
       "    <tr style=\"text-align: right;\">\n",
       "      <th></th>\n",
       "      <th>Survived</th>\n",
       "      <th>Pclass</th>\n",
       "      <th>Sex</th>\n",
       "      <th>Age</th>\n",
       "      <th>Fare</th>\n",
       "      <th>Embarked</th>\n",
       "      <th>Title_name</th>\n",
       "      <th>FamilySize</th>\n",
       "    </tr>\n",
       "  </thead>\n",
       "  <tbody>\n",
       "    <tr>\n",
       "      <th>0</th>\n",
       "      <td>0</td>\n",
       "      <td>3</td>\n",
       "      <td>1</td>\n",
       "      <td>1.0</td>\n",
       "      <td>0.0</td>\n",
       "      <td>0</td>\n",
       "      <td>2</td>\n",
       "      <td>2</td>\n",
       "    </tr>\n",
       "    <tr>\n",
       "      <th>1</th>\n",
       "      <td>1</td>\n",
       "      <td>1</td>\n",
       "      <td>0</td>\n",
       "      <td>2.0</td>\n",
       "      <td>0.0</td>\n",
       "      <td>1</td>\n",
       "      <td>3</td>\n",
       "      <td>2</td>\n",
       "    </tr>\n",
       "    <tr>\n",
       "      <th>2</th>\n",
       "      <td>1</td>\n",
       "      <td>3</td>\n",
       "      <td>0</td>\n",
       "      <td>1.0</td>\n",
       "      <td>0.0</td>\n",
       "      <td>0</td>\n",
       "      <td>1</td>\n",
       "      <td>1</td>\n",
       "    </tr>\n",
       "    <tr>\n",
       "      <th>3</th>\n",
       "      <td>1</td>\n",
       "      <td>1</td>\n",
       "      <td>0</td>\n",
       "      <td>2.0</td>\n",
       "      <td>0.0</td>\n",
       "      <td>0</td>\n",
       "      <td>3</td>\n",
       "      <td>2</td>\n",
       "    </tr>\n",
       "    <tr>\n",
       "      <th>4</th>\n",
       "      <td>0</td>\n",
       "      <td>3</td>\n",
       "      <td>1</td>\n",
       "      <td>2.0</td>\n",
       "      <td>0.0</td>\n",
       "      <td>0</td>\n",
       "      <td>2</td>\n",
       "      <td>1</td>\n",
       "    </tr>\n",
       "  </tbody>\n",
       "</table>\n",
       "</div>"
      ],
      "text/plain": [
       "   Survived  Pclass  Sex  Age  Fare  Embarked  Title_name  FamilySize\n",
       "0         0       3    1  1.0   0.0         0           2           2\n",
       "1         1       1    0  2.0   0.0         1           3           2\n",
       "2         1       3    0  1.0   0.0         0           1           1\n",
       "3         1       1    0  2.0   0.0         0           3           2\n",
       "4         0       3    1  2.0   0.0         0           2           1"
      ]
     },
     "execution_count": 240,
     "metadata": {},
     "output_type": "execute_result"
    }
   ],
   "source": [
    "train.head()"
   ]
  },
  {
   "cell_type": "code",
   "execution_count": 241,
   "id": "acd9f212-4e21-4688-a02e-da6e09105c63",
   "metadata": {},
   "outputs": [
    {
     "data": {
      "text/html": [
       "<div>\n",
       "<style scoped>\n",
       "    .dataframe tbody tr th:only-of-type {\n",
       "        vertical-align: middle;\n",
       "    }\n",
       "\n",
       "    .dataframe tbody tr th {\n",
       "        vertical-align: top;\n",
       "    }\n",
       "\n",
       "    .dataframe thead th {\n",
       "        text-align: right;\n",
       "    }\n",
       "</style>\n",
       "<table border=\"1\" class=\"dataframe\">\n",
       "  <thead>\n",
       "    <tr style=\"text-align: right;\">\n",
       "      <th></th>\n",
       "      <th>Pclass</th>\n",
       "      <th>Sex</th>\n",
       "      <th>Age</th>\n",
       "      <th>Fare</th>\n",
       "      <th>Embarked</th>\n",
       "      <th>Title_name</th>\n",
       "      <th>FamilySize</th>\n",
       "    </tr>\n",
       "  </thead>\n",
       "  <tbody>\n",
       "    <tr>\n",
       "      <th>0</th>\n",
       "      <td>3.0</td>\n",
       "      <td>1.0</td>\n",
       "      <td>2.0</td>\n",
       "      <td>0.0</td>\n",
       "      <td>2.0</td>\n",
       "      <td>3.0</td>\n",
       "      <td>2.0</td>\n",
       "    </tr>\n",
       "    <tr>\n",
       "      <th>1</th>\n",
       "      <td>3.0</td>\n",
       "      <td>0.0</td>\n",
       "      <td>2.0</td>\n",
       "      <td>0.0</td>\n",
       "      <td>0.0</td>\n",
       "      <td>4.0</td>\n",
       "      <td>2.0</td>\n",
       "    </tr>\n",
       "    <tr>\n",
       "      <th>2</th>\n",
       "      <td>2.0</td>\n",
       "      <td>1.0</td>\n",
       "      <td>3.0</td>\n",
       "      <td>0.0</td>\n",
       "      <td>2.0</td>\n",
       "      <td>3.0</td>\n",
       "      <td>1.0</td>\n",
       "    </tr>\n",
       "    <tr>\n",
       "      <th>3</th>\n",
       "      <td>3.0</td>\n",
       "      <td>1.0</td>\n",
       "      <td>1.0</td>\n",
       "      <td>0.0</td>\n",
       "      <td>0.0</td>\n",
       "      <td>3.0</td>\n",
       "      <td>2.0</td>\n",
       "    </tr>\n",
       "    <tr>\n",
       "      <th>4</th>\n",
       "      <td>3.0</td>\n",
       "      <td>0.0</td>\n",
       "      <td>1.0</td>\n",
       "      <td>0.0</td>\n",
       "      <td>0.0</td>\n",
       "      <td>4.0</td>\n",
       "      <td>1.0</td>\n",
       "    </tr>\n",
       "  </tbody>\n",
       "</table>\n",
       "</div>"
      ],
      "text/plain": [
       "   Pclass  Sex  Age  Fare  Embarked  Title_name  FamilySize\n",
       "0     3.0  1.0  2.0   0.0       2.0         3.0         2.0\n",
       "1     3.0  0.0  2.0   0.0       0.0         4.0         2.0\n",
       "2     2.0  1.0  3.0   0.0       2.0         3.0         1.0\n",
       "3     3.0  1.0  1.0   0.0       0.0         3.0         2.0\n",
       "4     3.0  0.0  1.0   0.0       0.0         4.0         1.0"
      ]
     },
     "execution_count": 241,
     "metadata": {},
     "output_type": "execute_result"
    }
   ],
   "source": [
    "test.head()"
   ]
  },
  {
   "cell_type": "code",
   "execution_count": 242,
   "id": "10383c15-fea7-4b0f-b200-aaea03289fdf",
   "metadata": {},
   "outputs": [
    {
     "data": {
      "text/html": [
       "<div>\n",
       "<style scoped>\n",
       "    .dataframe tbody tr th:only-of-type {\n",
       "        vertical-align: middle;\n",
       "    }\n",
       "\n",
       "    .dataframe tbody tr th {\n",
       "        vertical-align: top;\n",
       "    }\n",
       "\n",
       "    .dataframe thead th {\n",
       "        text-align: right;\n",
       "    }\n",
       "</style>\n",
       "<table border=\"1\" class=\"dataframe\">\n",
       "  <thead>\n",
       "    <tr style=\"text-align: right;\">\n",
       "      <th></th>\n",
       "      <th>Survived</th>\n",
       "      <th>Pclass</th>\n",
       "      <th>Sex</th>\n",
       "      <th>Age</th>\n",
       "      <th>Fare</th>\n",
       "      <th>Embarked</th>\n",
       "      <th>Title_name</th>\n",
       "      <th>FamilySize</th>\n",
       "    </tr>\n",
       "  </thead>\n",
       "  <tbody>\n",
       "    <tr>\n",
       "      <th>Survived</th>\n",
       "      <td>1.000000</td>\n",
       "      <td>-0.338481</td>\n",
       "      <td>-0.543351</td>\n",
       "      <td>-0.043800</td>\n",
       "      <td>0.147466</td>\n",
       "      <td>0.106811</td>\n",
       "      <td>-0.052471</td>\n",
       "      <td>0.016639</td>\n",
       "    </tr>\n",
       "    <tr>\n",
       "      <th>Pclass</th>\n",
       "      <td>-0.338481</td>\n",
       "      <td>1.000000</td>\n",
       "      <td>0.131900</td>\n",
       "      <td>-0.358769</td>\n",
       "      <td>-0.298580</td>\n",
       "      <td>0.045702</td>\n",
       "      <td>-0.195910</td>\n",
       "      <td>0.065997</td>\n",
       "    </tr>\n",
       "    <tr>\n",
       "      <th>Sex</th>\n",
       "      <td>-0.543351</td>\n",
       "      <td>0.131900</td>\n",
       "      <td>1.000000</td>\n",
       "      <td>0.070220</td>\n",
       "      <td>-0.114771</td>\n",
       "      <td>-0.116569</td>\n",
       "      <td>0.040484</td>\n",
       "      <td>-0.200988</td>\n",
       "    </tr>\n",
       "    <tr>\n",
       "      <th>Age</th>\n",
       "      <td>-0.043800</td>\n",
       "      <td>-0.358769</td>\n",
       "      <td>0.070220</td>\n",
       "      <td>1.000000</td>\n",
       "      <td>0.063220</td>\n",
       "      <td>-0.051334</td>\n",
       "      <td>0.427999</td>\n",
       "      <td>-0.217063</td>\n",
       "    </tr>\n",
       "    <tr>\n",
       "      <th>Fare</th>\n",
       "      <td>0.147466</td>\n",
       "      <td>-0.298580</td>\n",
       "      <td>-0.114771</td>\n",
       "      <td>0.063220</td>\n",
       "      <td>1.000000</td>\n",
       "      <td>0.047596</td>\n",
       "      <td>-0.044644</td>\n",
       "      <td>0.098769</td>\n",
       "    </tr>\n",
       "    <tr>\n",
       "      <th>Embarked</th>\n",
       "      <td>0.106811</td>\n",
       "      <td>0.045702</td>\n",
       "      <td>-0.116569</td>\n",
       "      <td>-0.051334</td>\n",
       "      <td>0.047596</td>\n",
       "      <td>1.000000</td>\n",
       "      <td>-0.081928</td>\n",
       "      <td>-0.080281</td>\n",
       "    </tr>\n",
       "    <tr>\n",
       "      <th>Title_name</th>\n",
       "      <td>-0.052471</td>\n",
       "      <td>-0.195910</td>\n",
       "      <td>0.040484</td>\n",
       "      <td>0.427999</td>\n",
       "      <td>-0.044644</td>\n",
       "      <td>-0.081928</td>\n",
       "      <td>1.000000</td>\n",
       "      <td>-0.207530</td>\n",
       "    </tr>\n",
       "    <tr>\n",
       "      <th>FamilySize</th>\n",
       "      <td>0.016639</td>\n",
       "      <td>0.065997</td>\n",
       "      <td>-0.200988</td>\n",
       "      <td>-0.217063</td>\n",
       "      <td>0.098769</td>\n",
       "      <td>-0.080281</td>\n",
       "      <td>-0.207530</td>\n",
       "      <td>1.000000</td>\n",
       "    </tr>\n",
       "  </tbody>\n",
       "</table>\n",
       "</div>"
      ],
      "text/plain": [
       "            Survived    Pclass       Sex       Age      Fare  Embarked  \\\n",
       "Survived    1.000000 -0.338481 -0.543351 -0.043800  0.147466  0.106811   \n",
       "Pclass     -0.338481  1.000000  0.131900 -0.358769 -0.298580  0.045702   \n",
       "Sex        -0.543351  0.131900  1.000000  0.070220 -0.114771 -0.116569   \n",
       "Age        -0.043800 -0.358769  0.070220  1.000000  0.063220 -0.051334   \n",
       "Fare        0.147466 -0.298580 -0.114771  0.063220  1.000000  0.047596   \n",
       "Embarked    0.106811  0.045702 -0.116569 -0.051334  0.047596  1.000000   \n",
       "Title_name -0.052471 -0.195910  0.040484  0.427999 -0.044644 -0.081928   \n",
       "FamilySize  0.016639  0.065997 -0.200988 -0.217063  0.098769 -0.080281   \n",
       "\n",
       "            Title_name  FamilySize  \n",
       "Survived     -0.052471    0.016639  \n",
       "Pclass       -0.195910    0.065997  \n",
       "Sex           0.040484   -0.200988  \n",
       "Age           0.427999   -0.217063  \n",
       "Fare         -0.044644    0.098769  \n",
       "Embarked     -0.081928   -0.080281  \n",
       "Title_name    1.000000   -0.207530  \n",
       "FamilySize   -0.207530    1.000000  "
      ]
     },
     "execution_count": 242,
     "metadata": {},
     "output_type": "execute_result"
    }
   ],
   "source": [
    "train.corr()"
   ]
  },
  {
   "cell_type": "code",
   "execution_count": 243,
   "id": "e54ceedd-c480-48b1-89b5-cf272519fbdf",
   "metadata": {},
   "outputs": [
    {
     "name": "stdout",
     "output_type": "stream",
     "text": [
      "(891, 7) (891,)\n"
     ]
    }
   ],
   "source": [
    "train_input = train.drop('Survived', axis=1).values\n",
    "train_target = train['Survived'].values\n",
    "print(train_input.shape, train_target.shape)  #(891, 7) (891,)\n",
    "\n",
    "# 라이브러리\n",
    "from sklearn.model_selection import KFold\n",
    "from sklearn.model_selection import cross_validate\n",
    "from sklearn.model_selection import cross_val_score\n",
    "from sklearn.model_selection import StratifiedKFold\n",
    "from sklearn.neighbors import KNeighborsClassifier\n",
    "from sklearn.tree import DecisionTreeClassifier\n",
    "from sklearn.ensemble import RandomForestClassifier\n",
    "from sklearn.ensemble import GradientBoostingClassifier\n",
    "from sklearn.experimental import enable_hist_gradient_boosting\n",
    "from sklearn.ensemble import HistGradientBoostingClassifier\n",
    "from sklearn.naive_bayes import GaussianNB\n",
    "from sklearn.svm import SVC"
   ]
  },
  {
   "cell_type": "code",
   "execution_count": 244,
   "id": "5b9fb18d-aa2f-4260-b492-42945ec638a9",
   "metadata": {},
   "outputs": [
    {
     "name": "stdout",
     "output_type": "stream",
     "text": [
      "0.8361394330018754 0.80023225158496\n"
     ]
    }
   ],
   "source": [
    "model = KNeighborsClassifier()\n",
    "score = cross_validate(model, train_input, train_target,\n",
    "                      return_train_score=True, n_jobs=-1,\n",
    "                      cv = StratifiedKFold())\n",
    "print(np.mean(score['train_score']), np.mean(score['test_score']))\n",
    "# 0.8369821296310886 0.8013495700207143"
   ]
  },
  {
   "cell_type": "code",
   "execution_count": 245,
   "id": "5107daf7-1da0-440c-861d-616db1049346",
   "metadata": {},
   "outputs": [
    {
     "name": "stdout",
     "output_type": "stream",
     "text": [
      "0.872335203366059 0.8002510827945514\n"
     ]
    }
   ],
   "source": [
    "model = DecisionTreeClassifier()\n",
    "score = cross_validate(model, train_input, train_target,\n",
    "                      return_train_score=True, n_jobs=-1,\n",
    "                      cv = StratifiedKFold())\n",
    "print(np.mean(score['train_score']), np.mean(score['test_score']))\n",
    "# 0.872335203366059 0.8024982738057874"
   ]
  },
  {
   "cell_type": "code",
   "execution_count": 246,
   "id": "46b35924-a0cf-43a0-8ce0-ac6e10a0a600",
   "metadata": {},
   "outputs": [
    {
     "name": "stdout",
     "output_type": "stream",
     "text": [
      "0.872335203366059 0.8013809553700332\n"
     ]
    }
   ],
   "source": [
    "model = RandomForestClassifier()\n",
    "score = cross_validate(model, train_input, train_target,\n",
    "                      return_train_score=True, n_jobs=-1,\n",
    "                      cv = StratifiedKFold())\n",
    "print(np.mean(score['train_score']), np.mean(score['test_score']))\n",
    "# 0.872335203366059 0.7980164459230431"
   ]
  },
  {
   "cell_type": "code",
   "execution_count": 247,
   "id": "65695eee-1967-42e6-9dc7-c927d0005389",
   "metadata": {},
   "outputs": [
    {
     "name": "stdout",
     "output_type": "stream",
     "text": [
      "0.8555009691602187 0.8204632477559475\n"
     ]
    }
   ],
   "source": [
    "model = GradientBoostingClassifier()\n",
    "score = cross_validate(model, train_input, train_target,\n",
    "                      return_train_score=True, n_jobs=-1,\n",
    "                      cv = StratifiedKFold())\n",
    "print(np.mean(score['train_score']), np.mean(score['test_score']))\n",
    "# 0.8555009691602187 0.8204632477559475"
   ]
  },
  {
   "cell_type": "code",
   "execution_count": 248,
   "id": "d8d06fb9-0f96-4391-9a8d-fc532edc7e6d",
   "metadata": {},
   "outputs": [
    {
     "name": "stdout",
     "output_type": "stream",
     "text": [
      "0.8597093307278945 0.8126043562864854\n"
     ]
    }
   ],
   "source": [
    "model = HistGradientBoostingClassifier()\n",
    "score = cross_validate(model, train_input, train_target,\n",
    "                      return_train_score=True, n_jobs=-1,\n",
    "                      cv = StratifiedKFold())\n",
    "print(np.mean(score['train_score']), np.mean(score['test_score']))\n",
    "# 0.8597093307278945 0.8126043562864854"
   ]
  },
  {
   "cell_type": "code",
   "execution_count": 249,
   "id": "25b2c05d-0b40-4fe9-ab00-f671e51cff89",
   "metadata": {},
   "outputs": [
    {
     "name": "stdout",
     "output_type": "stream",
     "text": [
      "0.8117284145169169 0.812560416797439\n"
     ]
    }
   ],
   "source": [
    "model = GaussianNB()\n",
    "score = cross_validate(model, train_input, train_target,\n",
    "                      return_train_score=True, n_jobs=-1,\n",
    "                      cv = StratifiedKFold())\n",
    "print(np.mean(score['train_score']), np.mean(score['test_score']))\n",
    "# 0.8117284145169169 0.812560416797439"
   ]
  },
  {
   "cell_type": "code",
   "execution_count": 250,
   "id": "076fa353-b5a0-4e85-92c5-99f5c2b1ebc8",
   "metadata": {},
   "outputs": [
    {
     "name": "stdout",
     "output_type": "stream",
     "text": [
      "0.8366992609168413 0.8349946644906158\n"
     ]
    }
   ],
   "source": [
    "model = SVC()\n",
    "score = cross_validate(model, train_input, train_target,\n",
    "                      return_train_score=True, n_jobs=-1,\n",
    "                      cv = StratifiedKFold())\n",
    "print(np.mean(score['train_score']), np.mean(score['test_score']))\n",
    "# 0.8366992609168413 0.8349946644906158"
   ]
  },
  {
   "cell_type": "code",
   "execution_count": 251,
   "id": "aac1085c-ab9f-4c02-9485-2186cd130a0f",
   "metadata": {},
   "outputs": [
    {
     "name": "stdout",
     "output_type": "stream",
     "text": [
      "[0 1 0 1 1 0 1 1 1 1 1 0 1 0 1 1 0 0 0 1 0 0 1 0 1 0 1 0 0 0 0 1 1 1 1 0 0\n",
      " 0 1 1 0 1 0 1 1 0 1 0 1 1 0 0 1 1 1 1 0 0 0 0 0 0 1 0 0 1 1 0 0 1 1 0 0 1\n",
      " 1 0 0 1 0 1 0 0 0 0 0 0 1 0 0 0 1 0 1 0 0 0 1 1 0 0 1 0 0 0 1 0 0 0 0 1 0\n",
      " 1 1 1 1 0 0 1 1 0 1 0 1 0 0 0 0 1 1 0 0 1 0 0 0 0 1 1 0 0 1 1 1 0 0 1 0 0\n",
      " 0 0 1 0 1 1 0 1 1 0 0 0 1 0 0 0 0 1 1 0 1 0 0 0 1 0 0 1 1 0 1 1 0 1 0 1 1\n",
      " 0 1 0 0 0 0 0 1 0 0 0 0 0 0 1 1 0 0 0 0 1 1 0 1 0 0 0 0 0 0 0 1 0 1 0 1 0\n",
      " 1 0 1 1 0 1 0 1 0 0 0 0 1 0 1 1 0 1 1 1 0 0 0 1 1 1 1 0 0 1 0 1 0 1 0 0 0\n",
      " 1 0 0 1 0 0 0 0 1 0 0 1 0 1 1 0 1 0 0 0 0 0 0 1 0 0 0 0 0 0 0 0 1 0 0 0 0\n",
      " 0 0 0 1 0 0 0 0 1 1 0 1 0 1 0 0 1 1 1 1 1 0 1 0 0 0 0 1 0 0 0 1 0 1 1 1 0\n",
      " 1 1 0 1 0 0 0 0 0 0 1 0 0 0 0 0 0 1 0 0 0 0 0 1 0 0 1 0 1 1 0 1 1 0 0 1 0\n",
      " 1 1 0 0 1 1 0 0 0 0 0 0 1 0 0 0 0 0 0 0 1 1 1 0 1 1 0 1 0 0 1 0 1 1 1 1 0\n",
      " 1 1 0 1 1 0 0 1 0 1 1]\n"
     ]
    }
   ],
   "source": [
    "model = KNeighborsClassifier()\n",
    "model.fit(train_input, train_target)\n",
    "test_input = test.values\n",
    "pred = model.predict(test_input)\n",
    "\n",
    "#submission['Survived'] = pred\n",
    "#submission\n",
    "print(pred)"
   ]
  },
  {
   "cell_type": "code",
   "execution_count": 252,
   "id": "7836cf63-e730-40e5-b385-0c46a620af75",
   "metadata": {},
   "outputs": [
    {
     "name": "stdout",
     "output_type": "stream",
     "text": [
      "<class 'pandas.core.frame.DataFrame'>\n",
      "RangeIndex: 418 entries, 0 to 417\n",
      "Data columns (total 7 columns):\n",
      " #   Column      Non-Null Count  Dtype  \n",
      "---  ------      --------------  -----  \n",
      " 0   Pclass      418 non-null    float64\n",
      " 1   Sex         418 non-null    float64\n",
      " 2   Age         418 non-null    float64\n",
      " 3   Fare        418 non-null    float64\n",
      " 4   Embarked    418 non-null    float64\n",
      " 5   Title_name  418 non-null    float64\n",
      " 6   FamilySize  418 non-null    float64\n",
      "dtypes: float64(7)\n",
      "memory usage: 23.0 KB\n"
     ]
    }
   ],
   "source": [
    "test.info()"
   ]
  },
  {
   "cell_type": "code",
   "execution_count": 253,
   "id": "78c0d738-a22e-4d51-871a-fbcb6772eec7",
   "metadata": {},
   "outputs": [
    {
     "name": "stdout",
     "output_type": "stream",
     "text": [
      "Accuracy: 0.7368\n",
      "Total in pred: 418, Total in submission: 418\n"
     ]
    }
   ],
   "source": [
    "from sklearn.metrics import accuracy_score\n",
    "\n",
    "# pred와 submission['Survived'] 비교\n",
    "accuracy = accuracy_score(submission['Survived'], pred)\n",
    "\n",
    "# 전체 개수 비교\n",
    "total_pred = len(pred)\n",
    "total_submission = len(submission['Survived'])\n",
    "\n",
    "print(f\"Accuracy: {accuracy:.4f}\")\n",
    "print(f\"Total in pred: {total_pred}, Total in submission: {total_submission}\")\n"
   ]
  },
  {
   "cell_type": "code",
   "execution_count": 254,
   "id": "5a4be918-51a3-4de8-b474-f70cc4e1fdfa",
   "metadata": {},
   "outputs": [
    {
     "name": "stdout",
     "output_type": "stream",
     "text": [
      "     Survived\n",
      "3           0\n",
      "7           0\n",
      "9           0\n",
      "10          0\n",
      "18          1\n",
      "..        ...\n",
      "407         0\n",
      "409         1\n",
      "412         1\n",
      "416         0\n",
      "417         0\n",
      "\n",
      "[110 rows x 1 columns]\n",
      "[1 1 1 1 0 1 1 0 0 1 1 1 1 1 1 0 1 0 0 1 0 0 1 0 1 1 0 0 1 1 0 1 1 0 1 1 1\n",
      " 1 0 0 0 1 0 1 1 0 1 0 1 0 0 1 0 0 1 0 1 1 1 0 1 1 0 0 1 1 1 0 1 0 1 0 1 0\n",
      " 0 0 0 1 1 1 1 1 1 0 0 1 1 1 1 1 0 0 0 0 0 1 0 0 0 1 1 1 1 1 1 1 0 0 1 1]\n"
     ]
    }
   ],
   "source": [
    "diff = submission['Survived'] != pred\n",
    "print(submission.loc[diff, ['Survived']])  # submission에서 다른 값 출력\n",
    "print(pred[diff])  # pred에서 다른 값 출력\n"
   ]
  },
  {
   "cell_type": "code",
   "execution_count": 338,
   "id": "eb371367-7d42-448d-9caa-0e7acaad6bb6",
   "metadata": {},
   "outputs": [],
   "source": [
    "model = SVC()  # SVC 모델로 변경\n",
    "model.fit(train_input, train_target)\n",
    "test_input = test.values\n",
    "pred = model.predict(test_input)\n"
   ]
  },
  {
   "cell_type": "code",
   "execution_count": 340,
   "id": "dbb6ac5f-c8f6-4cfc-8fcf-5365c9b0400d",
   "metadata": {},
   "outputs": [
    {
     "name": "stdout",
     "output_type": "stream",
     "text": [
      "Accuracy: 0.9761\n",
      "Total in pred: 418, Total in submission: 418\n"
     ]
    }
   ],
   "source": [
    "from sklearn.metrics import accuracy_score\n",
    "\n",
    "# pred와 submission['Survived'] 비교\n",
    "accuracy = accuracy_score(submission['Survived'], pred)\n",
    "\n",
    "# 전체 개수 비교\n",
    "total_pred = len(pred)\n",
    "total_submission = len(submission['Survived'])\n",
    "\n",
    "print(f\"Accuracy: {accuracy:.4f}\")\n",
    "print(f\"Total in pred: {total_pred}, Total in submission: {total_submission}\")\n"
   ]
  },
  {
   "cell_type": "code",
   "execution_count": 342,
   "id": "99db8e14-ab77-43ab-8cf2-3287657f9646",
   "metadata": {},
   "outputs": [
    {
     "name": "stdout",
     "output_type": "stream",
     "text": [
      "     Survived\n",
      "59          1\n",
      "63          1\n",
      "86          1\n",
      "88          1\n",
      "119         1\n",
      "152         0\n",
      "159         1\n",
      "176         1\n",
      "324         1\n",
      "409         1\n",
      "[0 0 0 0 0 1 0 0 0 0]\n"
     ]
    }
   ],
   "source": [
    "diff = submission['Survived'] != pred\n",
    "print(submission.loc[diff, ['Survived']])  # submission에서 다른 값 출력\n",
    "print(pred[diff])  # pred에서 다른 값 출력\n"
   ]
  },
  {
   "cell_type": "code",
   "execution_count": 344,
   "id": "44d0b581-5aa7-4313-a1de-2c77ff36f4aa",
   "metadata": {},
   "outputs": [
    {
     "name": "stdout",
     "output_type": "stream",
     "text": [
      "Accuracy: 0.9761\n",
      "Precision: 0.9931\n",
      "Recall: 0.9408\n",
      "F1-Score: 0.9662\n",
      "Total in pred: 418, Total in submission: 418\n"
     ]
    },
    {
     "data": {
      "image/png": "[encoded data removed]",
      "text/plain": [
       "<Figure size 640x480 with 2 Axes>"
      ]
     },
     "metadata": {},
     "output_type": "display_data"
    }
   ],
   "source": [
    "from sklearn.metrics import accuracy_score, precision_score, recall_score, f1_score, confusion_matrix, ConfusionMatrixDisplay\n",
    "from sklearn.svm import SVC\n",
    "\n",
    "# 모델 학습\n",
    "model = SVC()  # SVC 모델로 변경\n",
    "model.fit(train_input, train_target)\n",
    "\n",
    "# 예측값 생성\n",
    "test_input = test.values\n",
    "pred = model.predict(test_input)\n",
    "\n",
    "# pred와 submission['Survived'] 비교\n",
    "accuracy = accuracy_score(submission['Survived'], pred)\n",
    "precision = precision_score(submission['Survived'], pred)\n",
    "recall = recall_score(submission['Survived'], pred)\n",
    "f1 = f1_score(submission['Survived'], pred)\n",
    "\n",
    "# 전체 개수 비교\n",
    "total_pred = len(pred)\n",
    "total_submission = len(submission['Survived'])\n",
    "\n",
    "# 결과 출력\n",
    "print(f\"Accuracy: {accuracy:.4f}\")\n",
    "print(f\"Precision: {precision:.4f}\")\n",
    "print(f\"Recall: {recall:.4f}\")\n",
    "print(f\"F1-Score: {f1:.4f}\")\n",
    "print(f\"Total in pred: {total_pred}, Total in submission: {total_submission}\")\n",
    "\n",
    "# Confusion Matrix 출력\n",
    "cm = confusion_matrix(submission['Survived'], pred)\n",
    "cm_display = ConfusionMatrixDisplay(confusion_matrix=cm, display_labels=['Not Survived', 'Survived'])\n",
    "cm_display.plot(cmap='Blues')\n",
    "plt.title(\"Confusion Matrix\")\n",
    "plt.show()\n"
   ]
  },
  {
   "cell_type": "code",
   "execution_count": 346,
   "id": "979d06b3-4b3f-4367-9737-d1177dbaddd4",
   "metadata": {},
   "outputs": [
    {
     "name": "stdout",
     "output_type": "stream",
     "text": [
      "Accuracy: 0.9761\n",
      "Precision: 0.9931\n",
      "Recall: 0.9408\n",
      "F1-Score: 0.9662\n",
      "Total in pred: 418, Total in submission: 418\n"
     ]
    }
   ],
   "source": [
    "from sklearn.metrics import accuracy_score, precision_score, recall_score, f1_score\n",
    "\n",
    "# 모델 예측\n",
    "model = SVC()  # SVC 모델로 변경\n",
    "model.fit(train_input, train_target)\n",
    "test_input = test.values\n",
    "pred = model.predict(test_input)\n",
    "\n",
    "# 정확도, 정밀도, 재현율, F1-Score 계산\n",
    "accuracy = accuracy_score(submission['Survived'], pred)\n",
    "precision = precision_score(submission['Survived'], pred)\n",
    "recall = recall_score(submission['Survived'], pred)\n",
    "f1 = f1_score(submission['Survived'], pred)\n",
    "\n",
    "# 전체 개수 비교\n",
    "total_pred = len(pred)\n",
    "total_submission = len(submission['Survived'])\n",
    "\n",
    "# 출력\n",
    "print(f\"Accuracy: {accuracy:.4f}\")\n",
    "print(f\"Precision: {precision:.4f}\")\n",
    "print(f\"Recall: {recall:.4f}\")\n",
    "print(f\"F1-Score: {f1:.4f}\")\n",
    "print(f\"Total in pred: {total_pred}, Total in submission: {total_submission}\")\n"
   ]
  },
  {
   "cell_type": "code",
   "execution_count": 350,
   "id": "4695c7f4-460c-479d-bb75-a65239d5bc65",
   "metadata": {},
   "outputs": [
    {
     "data": {
      "image/png": "[encoded data removed]",
      "text/plain": [
       "<Figure size 800x600 with 1 Axes>"
      ]
     },
     "metadata": {},
     "output_type": "display_data"
    },
    {
     "name": "stdout",
     "output_type": "stream",
     "text": [
      "AUC Score: 0.9925\n"
     ]
    }
   ],
   "source": [
    "from sklearn.svm import SVC\n",
    "from sklearn.metrics import roc_curve, roc_auc_score\n",
    "import matplotlib.pyplot as plt\n",
    "\n",
    "# SVC 모델을 probability=True로 설정\n",
    "model = SVC(probability=True)\n",
    "\n",
    "# 모델 학습\n",
    "model.fit(train_input, train_target)\n",
    "\n",
    "# 모델 예측 확률 추출 (predict_proba는 이진 분류일 경우 사용)\n",
    "probabilities = model.predict_proba(test_input)[:, 1]  # 양성 클래스 (Survived=1) 확률만 추출\n",
    "\n",
    "# ROC 곡선 계산\n",
    "fpr, tpr, thresholds = roc_curve(submission['Survived'], probabilities)\n",
    "\n",
    "# AUC 계산\n",
    "auc = roc_auc_score(submission['Survived'], probabilities)\n",
    "\n",
    "# ROC Curve 시각화\n",
    "plt.figure(figsize=(8, 6))\n",
    "plt.plot(fpr, tpr, color='b', label=f'ROC Curve (AUC = {auc:.4f})')\n",
    "plt.plot([0, 1], [0, 1], color='r', linestyle='--')  # 무작위 분류 선 (대각선)\n",
    "plt.title('ROC Curve')\n",
    "plt.xlabel('False Positive Rate')\n",
    "plt.ylabel('True Positive Rate')\n",
    "plt.legend(loc='lower right')\n",
    "plt.grid(True)\n",
    "plt.show()\n",
    "\n",
    "# AUC 출력\n",
    "print(f\"AUC Score: {auc:.4f}\")\n"
   ]
  },
  {
   "cell_type": "code",
   "execution_count": 356,
   "id": "277a57a0-e4d3-4248-ae88-cf90b6c5ca2f",
   "metadata": {},
   "outputs": [
    {
     "name": "stdout",
     "output_type": "stream",
     "text": [
      "  Feature       VIF\n",
      "0       0  5.856685\n",
      "1       1  2.958783\n",
      "2       2  4.274359\n",
      "3       3  1.110040\n",
      "4       4  1.335276\n",
      "5       5  6.613982\n",
      "6       6  2.318978\n"
     ]
    }
   ],
   "source": [
    "import pandas as pd\n",
    "import statsmodels.api as sm\n",
    "from statsmodels.stats.outliers_influence import variance_inflation_factor\n",
    "\n",
    "# train_input이 numpy.ndarray 형식이므로, 이를 DataFrame으로 변환\n",
    "train_input_df = pd.DataFrame(train_input)\n",
    "\n",
    "# 결측치가 있는 행을 제거\n",
    "train_input_df = train_input_df.dropna(axis=0)\n",
    "\n",
    "# 상수 항을 추가\n",
    "X = sm.add_constant(train_input_df)\n",
    "\n",
    "# 상수형 컬럼(표준편차가 0인 컬럼) 제거\n",
    "X = X.loc[:, X.std() != 0]\n",
    "\n",
    "# 각 피쳐의 VIF 계산\n",
    "vif_data = pd.DataFrame()\n",
    "vif_data[\"Feature\"] = X.columns\n",
    "vif_data[\"VIF\"] = [variance_inflation_factor(X.values, i) for i in range(X.shape[1])]\n",
    "\n",
    "# VIF 결과 출력\n",
    "print(vif_data)\n"
   ]
  },
  {
   "cell_type": "code",
   "execution_count": 258,
   "id": "97001a63-3103-4253-a67f-e4d132ed6ce2",
   "metadata": {},
   "outputs": [
    {
     "name": "stdout",
     "output_type": "stream",
     "text": [
      "Train Accuracy: 0.8373\n",
      "Test Accuracy: 0.9761\n",
      "과적합 가능성이 낮습니다.\n"
     ]
    }
   ],
   "source": [
    "from sklearn.metrics import accuracy_score\n",
    "\n",
    "# 훈련 데이터 정확도\n",
    "train_pred = model.predict(train_input)\n",
    "train_accuracy = accuracy_score(train_target, train_pred)\n",
    "\n",
    "# 테스트 데이터 정확도\n",
    "test_accuracy = accuracy_score(submission['Survived'], pred)\n",
    "\n",
    "print(f\"Train Accuracy: {train_accuracy:.4f}\")\n",
    "print(f\"Test Accuracy: {test_accuracy:.4f}\")\n",
    "\n",
    "# 과적합 여부 확인\n",
    "if train_accuracy > test_accuracy + 0.1:  # 차이가 10% 이상이면 과적합 가능성 높음\n",
    "    print(\"과적합 가능성이 있습니다.\")\n",
    "else:\n",
    "    print(\"과적합 가능성이 낮습니다.\")\n"
   ]
  },
  {
   "cell_type": "code",
   "execution_count": 259,
   "id": "57bf1821-bde1-4d1d-88e0-fc73031f9402",
   "metadata": {},
   "outputs": [
    {
     "name": "stdout",
     "output_type": "stream",
     "text": [
      "K-Fold Cross Validation Scores: [0.83798883 0.81460674 0.82022472 0.83707865 0.84831461]\n",
      "Mean Accuracy: 0.8316\n",
      "Standard Deviation: 0.0124\n",
      "과적합 가능성이 낮습니다.\n"
     ]
    }
   ],
   "source": [
    "from sklearn.model_selection import cross_val_score, StratifiedKFold\n",
    "from sklearn.svm import SVC\n",
    "import numpy as np\n",
    "\n",
    "# K-Fold 설정 (StratifiedKFold는 클래스 비율을 유지하면서 분할)\n",
    "kf = StratifiedKFold(n_splits=5, shuffle=True, random_state=42)\n",
    "\n",
    "# 교차 검증 실행 (SVC 모델 사용)\n",
    "cv_scores = cross_val_score(model, train_input, train_target, cv=kf, scoring='accuracy')\n",
    "\n",
    "# 결과 출력\n",
    "print(f\"K-Fold Cross Validation Scores: {cv_scores}\")\n",
    "print(f\"Mean Accuracy: {np.mean(cv_scores):.4f}\")\n",
    "print(f\"Standard Deviation: {np.std(cv_scores):.4f}\")\n",
    "\n",
    "# 과적합 여부 판단\n",
    "if np.max(cv_scores) - np.min(cv_scores) > 0.1:  # Fold 간 차이가 크면 과적합 가능성 있음\n",
    "    print(\"과적합 가능성이 있습니다.\")\n",
    "else:\n",
    "    print(\"과적합 가능성이 낮습니다.\")\n"
   ]
  },
  {
   "cell_type": "code",
   "execution_count": 326,
   "id": "4de36fad-84be-446c-8f19-974fcd0a2a4d",
   "metadata": {},
   "outputs": [],
   "source": [
    "model = GaussianNB()\n",
    "model.fit(train_input, train_target)\n",
    "test_input = test.values\n",
    "pred = model.predict(test_input)"
   ]
  },
  {
   "cell_type": "code",
   "execution_count": 328,
   "id": "8bd87ca2-82f6-4bef-af4a-576033780267",
   "metadata": {},
   "outputs": [
    {
     "name": "stdout",
     "output_type": "stream",
     "text": [
      "Accuracy: 0.9139\n",
      "Total in pred: 418, Total in submission: 418\n"
     ]
    }
   ],
   "source": [
    "from sklearn.metrics import accuracy_score\n",
    "\n",
    "# pred와 submission['Survived'] 비교\n",
    "accuracy = accuracy_score(submission['Survived'], pred)\n",
    "\n",
    "# 전체 개수 비교\n",
    "total_pred = len(pred)\n",
    "total_submission = len(submission['Survived'])\n",
    "\n",
    "print(f\"Accuracy: {accuracy:.4f}\")\n",
    "print(f\"Total in pred: {total_pred}, Total in submission: {total_submission}\")\n"
   ]
  },
  {
   "cell_type": "code",
   "execution_count": 330,
   "id": "1a638156-3a7b-4ec9-9f46-24fa75155d84",
   "metadata": {},
   "outputs": [],
   "source": [
    "model = RandomForestClassifier()\n",
    "model.fit(train_input, train_target)\n",
    "test_input = test.values\n",
    "pred = model.predict(test_input)"
   ]
  },
  {
   "cell_type": "code",
   "execution_count": 332,
   "id": "efa7423a-5b6e-42cc-b245-9d7c1643d97a",
   "metadata": {},
   "outputs": [
    {
     "name": "stdout",
     "output_type": "stream",
     "text": [
      "Accuracy: 0.8373\n",
      "Total in pred: 418, Total in submission: 418\n"
     ]
    }
   ],
   "source": [
    "from sklearn.metrics import accuracy_score\n",
    "\n",
    "# pred와 submission['Survived'] 비교\n",
    "accuracy = accuracy_score(submission['Survived'], pred)\n",
    "\n",
    "# 전체 개수 비교\n",
    "total_pred = len(pred)\n",
    "total_submission = len(submission['Survived'])\n",
    "\n",
    "print(f\"Accuracy: {accuracy:.4f}\")\n",
    "print(f\"Total in pred: {total_pred}, Total in submission: {total_submission}\")\n"
   ]
  },
  {
   "cell_type": "code",
   "execution_count": 334,
   "id": "1e9dd2ae-fa66-4ca5-b564-04106213d5b0",
   "metadata": {},
   "outputs": [],
   "source": [
    "model = GradientBoostingClassifier()\n",
    "model.fit(train_input, train_target)\n",
    "test_input = test.values\n",
    "pred = model.predict(test_input)"
   ]
  },
  {
   "cell_type": "code",
   "execution_count": 336,
   "id": "f74a9fa6-f07e-4a69-815f-c0d0394c2352",
   "metadata": {},
   "outputs": [
    {
     "name": "stdout",
     "output_type": "stream",
     "text": [
      "Accuracy: 0.8636\n",
      "Total in pred: 418, Total in submission: 418\n"
     ]
    }
   ],
   "source": [
    "from sklearn.metrics import accuracy_score\n",
    "\n",
    "# pred와 submission['Survived'] 비교\n",
    "accuracy = accuracy_score(submission['Survived'], pred)\n",
    "\n",
    "# 전체 개수 비교\n",
    "total_pred = len(pred)\n",
    "total_submission = len(submission['Survived'])\n",
    "\n",
    "print(f\"Accuracy: {accuracy:.4f}\")\n",
    "print(f\"Total in pred: {total_pred}, Total in submission: {total_submission}\")\n"
   ]
  },
  {
   "cell_type": "code",
   "execution_count": null,
   "id": "1bcd6db5-c149-4b3b-bbb9-29f7d922747f",
   "metadata": {},
   "outputs": [],
   "source": []
  }
 ],
 "metadata": {
  "kernelspec": {
   "display_name": "Python [conda env:base] *",
   "language": "python",
   "name": "conda-base-py"
  },
  "language_info": {
   "codemirror_mode": {
    "name": "ipython",
    "version": 3
   },
   "file_extension": ".py",
   "mimetype": "text/x-python",
   "name": "python",
   "nbconvert_exporter": "python",
   "pygments_lexer": "ipython3",
   "version": "3.12.7"
  }
 },
 "nbformat": 4,
 "nbformat_minor": 5
}
