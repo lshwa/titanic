{
 "cells": [
  {
   "cell_type": "code",
   "execution_count": 708,
   "id": "6df8d32d-e879-49f1-8ca7-f9f26b6725ce",
   "metadata": {},
   "outputs": [
    {
     "data": {
      "text/plain": [
       "(   PassengerId  Pclass                                          Name     Sex  \\\n",
       " 0          892       3                              Kelly, Mr. James    male   \n",
       " 1          893       3              Wilkes, Mrs. James (Ellen Needs)  female   \n",
       " 2          894       2                     Myles, Mr. Thomas Francis    male   \n",
       " 3          895       3                              Wirz, Mr. Albert    male   \n",
       " 4          896       3  Hirvonen, Mrs. Alexander (Helga E Lindqvist)  female   \n",
       " \n",
       "     Age  SibSp  Parch   Ticket     Fare Cabin Embarked  \n",
       " 0  34.5      0      0   330911   7.8292   NaN        Q  \n",
       " 1  47.0      1      0   363272   7.0000   NaN        S  \n",
       " 2  62.0      0      0   240276   9.6875   NaN        Q  \n",
       " 3  27.0      0      0   315154   8.6625   NaN        S  \n",
       " 4  22.0      1      1  3101298  12.2875   NaN        S  ,\n",
       "    PassengerId  Survived  Pclass  \\\n",
       " 0            1         0       3   \n",
       " 1            2         1       1   \n",
       " 2            3         1       3   \n",
       " 3            4         1       1   \n",
       " 4            5         0       3   \n",
       " \n",
       "                                                 Name     Sex   Age  SibSp  \\\n",
       " 0                            Braund, Mr. Owen Harris    male  22.0      1   \n",
       " 1  Cumings, Mrs. John Bradley (Florence Briggs Th...  female  38.0      1   \n",
       " 2                             Heikkinen, Miss. Laina  female  26.0      0   \n",
       " 3       Futrelle, Mrs. Jacques Heath (Lily May Peel)  female  35.0      1   \n",
       " 4                           Allen, Mr. William Henry    male  35.0      0   \n",
       " \n",
       "    Parch            Ticket     Fare Cabin Embarked  \n",
       " 0      0         A/5 21171   7.2500   NaN        S  \n",
       " 1      0          PC 17599  71.2833   C85        C  \n",
       " 2      0  STON/O2. 3101282   7.9250   NaN        S  \n",
       " 3      0            113803  53.1000  C123        S  \n",
       " 4      0            373450   8.0500   NaN        S  )"
      ]
     },
     "execution_count": 708,
     "metadata": {},
     "output_type": "execute_result"
    }
   ],
   "source": [
    "import pandas as pd\n",
    "\n",
    "# CSV 파일 불러오기\n",
    "file1 = pd.read_csv(\"test.csv\")\n",
    "file2 = pd.read_csv(\"train.csv\")\n",
    "\n",
    "# 데이터 확인\n",
    "file1.head(), file2.head()\n"
   ]
  },
  {
   "cell_type": "code",
   "execution_count": 709,
   "id": "edc5fb31-4913-49c9-b6a5-68b1475f80cb",
   "metadata": {},
   "outputs": [
    {
     "name": "stdout",
     "output_type": "stream",
     "text": [
      "<class 'pandas.core.frame.DataFrame'>\n",
      "RangeIndex: 418 entries, 0 to 417\n",
      "Data columns (total 11 columns):\n",
      " #   Column       Non-Null Count  Dtype  \n",
      "---  ------       --------------  -----  \n",
      " 0   PassengerId  418 non-null    int64  \n",
      " 1   Pclass       418 non-null    int64  \n",
      " 2   Name         418 non-null    object \n",
      " 3   Sex          418 non-null    object \n",
      " 4   Age          332 non-null    float64\n",
      " 5   SibSp        418 non-null    int64  \n",
      " 6   Parch        418 non-null    int64  \n",
      " 7   Ticket       418 non-null    object \n",
      " 8   Fare         417 non-null    float64\n",
      " 9   Cabin        91 non-null     object \n",
      " 10  Embarked     418 non-null    object \n",
      "dtypes: float64(2), int64(4), object(5)\n",
      "memory usage: 36.1+ KB\n"
     ]
    }
   ],
   "source": [
    "file1.info()"
   ]
  },
  {
   "cell_type": "code",
   "execution_count": 710,
   "id": "b44023aa-ed16-4203-a467-e0bafa31e347",
   "metadata": {},
   "outputs": [
    {
     "data": {
      "text/plain": [
       "PassengerId      0\n",
       "Pclass           0\n",
       "Name             0\n",
       "Sex              0\n",
       "Age             86\n",
       "SibSp            0\n",
       "Parch            0\n",
       "Ticket           0\n",
       "Fare             1\n",
       "Cabin          327\n",
       "Embarked         0\n",
       "dtype: int64"
      ]
     },
     "execution_count": 710,
     "metadata": {},
     "output_type": "execute_result"
    }
   ],
   "source": [
    "file1.isnull().sum()"
   ]
  },
  {
   "cell_type": "code",
   "execution_count": 711,
   "id": "2cb563c2-66cf-4d92-8b40-41cf70f12857",
   "metadata": {},
   "outputs": [
    {
     "data": {
      "text/plain": [
       "PassengerId      0\n",
       "Survived         0\n",
       "Pclass           0\n",
       "Name             0\n",
       "Sex              0\n",
       "Age            177\n",
       "SibSp            0\n",
       "Parch            0\n",
       "Ticket           0\n",
       "Fare             0\n",
       "Cabin          687\n",
       "Embarked         2\n",
       "dtype: int64"
      ]
     },
     "execution_count": 711,
     "metadata": {},
     "output_type": "execute_result"
    }
   ],
   "source": [
    "file2.isnull().sum()"
   ]
  },
  {
   "cell_type": "code",
   "execution_count": 712,
   "id": "7ff408da-e999-41be-bacb-d260060adf76",
   "metadata": {},
   "outputs": [
    {
     "data": {
      "image/png": "[encoded data removed]",
      "text/plain": [
       "<Figure size 800x600 with 1 Axes>"
      ]
     },
     "metadata": {},
     "output_type": "display_data"
    }
   ],
   "source": [
    "import pandas as pd\n",
    "import matplotlib.pyplot as plt\n",
    "import seaborn as sns\n",
    "\n",
    "# Embarked 값들의 시각화\n",
    "plt.figure(figsize=(8, 6))\n",
    "sns.countplot(x='Embarked', data=file2, palette='Set2', hue='Embarked', legend=False)\n",
    "\n",
    "# 그래프 제목 추가\n",
    "plt.title('Embarked Column Value Distribution', fontsize=14)\n",
    "plt.xlabel('Embarked', fontsize=12)\n",
    "plt.ylabel('Count', fontsize=12)\n",
    "\n",
    "# 그래프 출력\n",
    "plt.show()\n"
   ]
  },
  {
   "cell_type": "code",
   "execution_count": 713,
   "id": "4d21c0f6-14b7-4476-9d48-bdd5eec0313a",
   "metadata": {},
   "outputs": [
    {
     "data": {
      "image/png": "[encoded data removed]",
      "text/plain": [
       "<Figure size 1000x600 with 1 Axes>"
      ]
     },
     "metadata": {},
     "output_type": "display_data"
    }
   ],
   "source": [
    "import pandas as pd\n",
    "import matplotlib.pyplot as plt\n",
    "import seaborn as sns\n",
    "\n",
    "# Cabin의 첫 글자만 추출하여 새로운 열 생성\n",
    "file2['Cabin_first'] = file2['Cabin'].str[0]\n",
    "\n",
    "# Cabin_first에서 결측치가 아닌 값들만 대상으로 처리\n",
    "file2.loc[file2['Cabin_first'].notna(), 'Cabin_first'] = file2.loc[file2['Cabin_first'].notna(), 'Cabin_first'].fillna('U')\n",
    "\n",
    "# Survived와 Cabin_first 간의 관계 시각화\n",
    "plt.figure(figsize=(10, 6))\n",
    "sns.countplot(x='Cabin_first', hue='Survived', data=file2, palette='Set2')\n",
    "\n",
    "# 그래프 제목 추가\n",
    "plt.title('Survived vs Cabin First Letter', fontsize=14)\n",
    "plt.xlabel('Cabin First Letter', fontsize=12)\n",
    "plt.ylabel('Count', fontsize=12)\n",
    "\n",
    "# 그래프 출력\n",
    "plt.show()\n"
   ]
  },
  {
   "cell_type": "code",
   "execution_count": 714,
   "id": "9cdd5049-2237-4ca8-936e-5cd256903092",
   "metadata": {},
   "outputs": [
    {
     "data": {
      "image/png": "[encoded data removed]",
      "text/plain": [
       "<Figure size 1000x600 with 1 Axes>"
      ]
     },
     "metadata": {},
     "output_type": "display_data"
    }
   ],
   "source": [
    "import pandas as pd\n",
    "import matplotlib.pyplot as plt\n",
    "import seaborn as sns\n",
    "\n",
    "# Cabin_first에서 결측치를 제외한 값들만 선택\n",
    "file2_non_null = file2[file2['Cabin_first'].notna()]\n",
    "\n",
    "# Survived와 Cabin_first 간의 관계 시각화\n",
    "plt.figure(figsize=(10, 6))\n",
    "sns.countplot(x='Cabin_first', hue='Pclass', data=file2_non_null, palette='Set2')\n",
    "\n",
    "# 그래프 제목 추가\n",
    "plt.title('Pclass vs Cabin First Letter (Excluding Missing Values)', fontsize=14)\n",
    "plt.xlabel('Cabin First Letter', fontsize=12)\n",
    "plt.ylabel('Count', fontsize=12)\n",
    "\n",
    "# 그래프 출력\n",
    "plt.show()\n"
   ]
  },
  {
   "cell_type": "code",
   "execution_count": 715,
   "id": "c21e2d92-b884-45f7-9e87-86e1a133886e",
   "metadata": {},
   "outputs": [
    {
     "name": "stdout",
     "output_type": "stream",
     "text": [
      "339    35.5\n",
      "Name: Fare, dtype: float64\n"
     ]
    }
   ],
   "source": [
    "import pandas as pd\n",
    "\n",
    "# 'Cabin_first' 열에서 첫 글자가 'T'인 행들만 필터링\n",
    "t_cabin_fare = file2[file2['Cabin_first'] == 'T']['Fare']\n",
    "\n",
    "# 'T'인 행들의 Fare 값 출력\n",
    "print(t_cabin_fare)\n"
   ]
  },
  {
   "cell_type": "code",
   "execution_count": 716,
   "id": "c0c1929c-4c95-4281-bb35-b91aa1f87d12",
   "metadata": {},
   "outputs": [
    {
     "name": "stdout",
     "output_type": "stream",
     "text": [
      "Fare 평균값: 32.204207968574636\n"
     ]
    }
   ],
   "source": [
    "# Fare 열의 평균값 계산\n",
    "average_fare = file2['Fare'].mean()\n",
    "\n",
    "# 평균값 출력\n",
    "print(\"Fare 평균값:\", average_fare)\n"
   ]
  },
  {
   "cell_type": "code",
   "execution_count": 717,
   "id": "3fdae72d-be12-4cb2-9da1-d96dd8dd10ae",
   "metadata": {},
   "outputs": [
    {
     "name": "stdout",
     "output_type": "stream",
     "text": [
      "     PassengerId  Survived  Pclass                          Name   Sex   Age  \\\n",
      "339          340         0       1  Blackwell, Mr. Stephen Weart  male  45.0   \n",
      "\n",
      "     SibSp  Parch  Ticket  Fare Cabin Embarked Cabin_first  \n",
      "339      0      0  113784  35.5     T        S           T  \n"
     ]
    }
   ],
   "source": [
    "# Cabin_first 열에서 'T'가 포함된 모든 행 필터링\n",
    "t_cabin_rows = file2[file2['Cabin_first'].str.contains('T', na=False)]\n",
    "\n",
    "# 'T'가 포함된 행 출력\n",
    "print(t_cabin_rows)\n"
   ]
  },
  {
   "cell_type": "code",
   "execution_count": 718,
   "id": "f96d732e-8007-47df-b6b9-0ebdaaf0c0e2",
   "metadata": {},
   "outputs": [
    {
     "name": "stdout",
     "output_type": "stream",
     "text": [
      "   PassengerId  Survived  Pclass  \\\n",
      "0            1         0       3   \n",
      "1            2         1       1   \n",
      "2            3         1       3   \n",
      "3            4         1       1   \n",
      "4            5         0       3   \n",
      "\n",
      "                                                Name     Sex   Age  SibSp  \\\n",
      "0                            Braund, Mr. Owen Harris    male  22.0      1   \n",
      "1  Cumings, Mrs. John Bradley (Florence Briggs Th...  female  38.0      1   \n",
      "2                             Heikkinen, Miss. Laina  female  26.0      0   \n",
      "3       Futrelle, Mrs. Jacques Heath (Lily May Peel)  female  35.0      1   \n",
      "4                           Allen, Mr. William Henry    male  35.0      0   \n",
      "\n",
      "   Parch            Ticket     Fare Embarked Cabin_first  \n",
      "0      0         A/5 21171   7.2500        S         NaN  \n",
      "1      0          PC 17599  71.2833        C           C  \n",
      "2      0  STON/O2. 3101282   7.9250        S         NaN  \n",
      "3      0            113803  53.1000        S           C  \n",
      "4      0            373450   8.0500        S         NaN  \n"
     ]
    }
   ],
   "source": [
    "# 'Cabin' 열 삭제\n",
    "file2 = file2.drop(columns=['Cabin'])\n",
    "\n",
    "# 삭제된 결과 출력 (선택 사항)\n",
    "print(file2.head())\n"
   ]
  },
  {
   "cell_type": "code",
   "execution_count": 719,
   "id": "19024291-021a-4e60-b433-af38506e7f0b",
   "metadata": {},
   "outputs": [
    {
     "name": "stdout",
     "output_type": "stream",
     "text": [
      "0\n"
     ]
    }
   ],
   "source": [
    "# 'Embarked' 열의 결측치를 최빈값 'S'로 대체\n",
    "file2['Embarked'] = file2['Embarked'].fillna('S')\n",
    "\n",
    "# 대체된 결과 출력 (선택 사항)\n",
    "print(file2['Embarked'].isna().sum())  # 결측치가 0개인지 확인\n"
   ]
  },
  {
   "cell_type": "code",
   "execution_count": 720,
   "id": "51bd4ef2-7804-4dc7-930d-a24e4bd4f62c",
   "metadata": {
    "scrolled": true
   },
   "outputs": [
    {
     "name": "stdout",
     "output_type": "stream",
     "text": [
      "Pclass\n",
      "1    38.233441\n",
      "2    29.877630\n",
      "3    25.140620\n",
      "Name: Age, dtype: float64\n"
     ]
    }
   ],
   "source": [
    "# 'Age' 열에서 결측치를 제거한 데이터\n",
    "file2_no_missing_age = file2.dropna(subset=['Age'])\n",
    "\n",
    "# Pclass별 Age의 평균값 계산 (결측치를 제거한 데이터 기준)\n",
    "age_mean_by_pclass = file2_no_missing_age.groupby('Pclass')['Age'].mean()\n",
    "\n",
    "# 각 Pclass별 Age 평균 출력\n",
    "print(age_mean_by_pclass)\n"
   ]
  },
  {
   "cell_type": "code",
   "execution_count": 721,
   "id": "f805222c-0bc4-47ef-b2b0-a7a283547d89",
   "metadata": {},
   "outputs": [
    {
     "name": "stdout",
     "output_type": "stream",
     "text": [
      "                  Age  Sex_numeric\n",
      "Age          1.000000    -0.093254\n",
      "Sex_numeric -0.093254     1.000000\n"
     ]
    }
   ],
   "source": [
    "import pandas as pd\n",
    "\n",
    "# 'Sex' 컬럼을 숫자로 변환 (male=0, female=1)\n",
    "file2['Sex_numeric'] = file2['Sex'].map({'male': 0, 'female': 1})\n",
    "\n",
    "# 'Age'와 'Sex_numeric' 간의 상관계수 계산\n",
    "correlation = file2[['Age', 'Sex_numeric']].corr()\n",
    "\n",
    "# 상관계수 출력\n",
    "print(correlation)\n"
   ]
  },
  {
   "cell_type": "code",
   "execution_count": 722,
   "id": "1ac67ddd-83dc-4bf7-b9b5-2e51cfa2835a",
   "metadata": {},
   "outputs": [
    {
     "data": {
      "image/png": "[encoded data removed]",
      "text/plain": [
       "<Figure size 1200x600 with 2 Axes>"
      ]
     },
     "metadata": {},
     "output_type": "display_data"
    }
   ],
   "source": [
    "import matplotlib.pyplot as plt\n",
    "import seaborn as sns\n",
    "\n",
    "# 그래프 크기 설정\n",
    "plt.figure(figsize=(12, 6))\n",
    "\n",
    "# Parch와 Age의 관계 시각화\n",
    "plt.subplot(1, 2, 1)\n",
    "sns.scatterplot(x='Parch', y='Age', data=file2, color='blue')\n",
    "plt.title('Age vs Parch')\n",
    "plt.xlabel('Parch')\n",
    "plt.ylabel('Age')\n",
    "\n",
    "# SibSp와 Age의 관계 시각화\n",
    "plt.subplot(1, 2, 2)\n",
    "sns.scatterplot(x='SibSp', y='Age', data=file2, color='green')\n",
    "plt.title('Age vs SibSp')\n",
    "plt.xlabel('SibSp')\n",
    "plt.ylabel('Age')\n",
    "\n",
    "# 그래프 출력\n",
    "plt.tight_layout()\n",
    "plt.show()\n"
   ]
  },
  {
   "cell_type": "code",
   "execution_count": 723,
   "id": "0da262cd-6f2a-4df1-baf2-e4d48e5d10f9",
   "metadata": {},
   "outputs": [
    {
     "data": {
      "image/png": "[encoded data removed]",
      "text/plain": [
       "<Figure size 800x600 with 2 Axes>"
      ]
     },
     "metadata": {},
     "output_type": "display_data"
    }
   ],
   "source": [
    "import pandas as pd\n",
    "import seaborn as sns\n",
    "import matplotlib.pyplot as plt\n",
    "\n",
    "# Parch, SibSp, Age 컬럼만 추출\n",
    "corr_data = file2[['Age', 'Parch', 'SibSp']]\n",
    "\n",
    "# 상관계수 계산\n",
    "correlation_matrix = corr_data.corr()\n",
    "\n",
    "# 히트맵 시각화\n",
    "plt.figure(figsize=(8, 6))\n",
    "sns.heatmap(correlation_matrix, annot=True, cmap='coolwarm', fmt='.2f', cbar=True, square=True)\n",
    "\n",
    "# 그래프 제목 추가\n",
    "plt.title('Correlation Heatmap between Age, Parch, and SibSp', fontsize=14)\n",
    "\n",
    "# 그래프 출력\n",
    "plt.show()\n"
   ]
  },
  {
   "cell_type": "code",
   "execution_count": 724,
   "id": "b2de157a-b366-4d8f-8139-a075eda1aba6",
   "metadata": {},
   "outputs": [
    {
     "name": "stdout",
     "output_type": "stream",
     "text": [
      "            Age     Parch     SibSp\n",
      "Age    1.000000 -0.189119 -0.308247\n",
      "Parch -0.189119  1.000000  0.414838\n",
      "SibSp -0.308247  0.414838  1.000000\n"
     ]
    }
   ],
   "source": [
    "# Parch, SibSp, Age 컬럼만 추출\n",
    "corr_data = file2[['Age', 'Parch', 'SibSp']]\n",
    "\n",
    "# 상관계수 계산\n",
    "correlation_matrix = corr_data.corr()\n",
    "\n",
    "# 상관계수 출력\n",
    "print(correlation_matrix)\n"
   ]
  },
  {
   "cell_type": "code",
   "execution_count": 725,
   "id": "78286795-50da-4a30-8f30-d3d78c181fdf",
   "metadata": {},
   "outputs": [
    {
     "name": "stdout",
     "output_type": "stream",
     "text": [
      "   Parch  SibSp  Family\n",
      "0      0      1       1\n",
      "1      0      1       1\n",
      "2      0      0       0\n",
      "3      0      1       1\n",
      "4      0      0       0\n"
     ]
    }
   ],
   "source": [
    "# Parch와 SibSp 컬럼을 합쳐서 Family 컬럼 만들기\n",
    "file2['Family'] = file2['Parch'] + file2['SibSp']\n",
    "\n",
    "# 결과 확인\n",
    "print(file2[['Parch', 'SibSp', 'Family']].head())\n"
   ]
  },
  {
   "cell_type": "code",
   "execution_count": 726,
   "id": "88cb92b1-3a32-4948-98d7-38c4c7694653",
   "metadata": {},
   "outputs": [
    {
     "name": "stdout",
     "output_type": "stream",
     "text": [
      "          Family       Age\n",
      "Family  1.000000 -0.301914\n",
      "Age    -0.301914  1.000000\n"
     ]
    }
   ],
   "source": [
    "# Family와 Age 간의 상관계수 계산\n",
    "correlation = file2[['Family', 'Age']].corr()\n",
    "\n",
    "# 상관계수 출력\n",
    "print(correlation)\n"
   ]
  },
  {
   "cell_type": "code",
   "execution_count": 727,
   "id": "62580633-32cf-457c-8d3e-58fcdbddc773",
   "metadata": {},
   "outputs": [
    {
     "name": "stdout",
     "output_type": "stream",
     "text": [
      "   Pclass  Family   Age\n",
      "0       3       1  22.0\n",
      "1       1       1  38.0\n",
      "2       3       0  26.0\n",
      "3       1       1  35.0\n",
      "4       3       0  35.0\n"
     ]
    }
   ],
   "source": [
    "# 슬라이싱 후, 명시적으로 복사본을 만들기\n",
    "data = file2[['Pclass', 'Family', 'Age']].copy()\n",
    "\n",
    "# 결측치가 있는 행을 제거\n",
    "data.dropna(subset=['Age'], inplace=True)\n",
    "\n",
    "# 확인\n",
    "print(data.head())\n"
   ]
  },
  {
   "cell_type": "code",
   "execution_count": 728,
   "id": "71185545-4862-4479-ae83-7439c63e4263",
   "metadata": {},
   "outputs": [
    {
     "name": "stdout",
     "output_type": "stream",
     "text": [
      "Mean Squared Error (MSE): 136.39798586267852\n",
      "R² Score: 0.26432095199669003\n"
     ]
    }
   ],
   "source": [
    "import pandas as pd\n",
    "from sklearn.model_selection import train_test_split\n",
    "from sklearn.linear_model import LinearRegression\n",
    "from sklearn.metrics import mean_squared_error, r2_score\n",
    "\n",
    "# 필요한 컬럼만 추출하고, 결측치가 있는 행 제거\n",
    "data = file2[['Pclass', 'Family', 'Age']].copy()\n",
    "data.dropna(subset=['Age'], inplace=True)\n",
    "\n",
    "# 독립 변수(X)와 종속 변수(y) 분리\n",
    "X = data[['Pclass', 'Family']]  # Pclass와 Family가 독립 변수\n",
    "y = data['Age']  # Age가 종속 변수\n",
    "\n",
    "# 훈련 세트와 테스트 세트로 분리 (80% 훈련, 20% 테스트)\n",
    "X_train, X_test, y_train, y_test = train_test_split(X, y, test_size=0.2, random_state=42)\n",
    "\n",
    "# 회귀 모델 생성\n",
    "model = LinearRegression()\n",
    "\n",
    "# 훈련 데이터로 모델 학습\n",
    "model.fit(X_train, y_train)\n",
    "\n",
    "# 테스트 세트를 이용해 예측\n",
    "y_pred = model.predict(X_test)\n",
    "\n",
    "# 모델 성능 평가\n",
    "mse = mean_squared_error(y_test, y_pred)  # 평균 제곱 오차 (MSE)\n",
    "r2 = r2_score(y_test, y_pred)  # 결정 계수 (R²)\n",
    "\n",
    "# 평가 결과 출력\n",
    "print(f\"Mean Squared Error (MSE): {mse}\")\n",
    "print(f\"R² Score: {r2}\")\n"
   ]
  },
  {
   "cell_type": "code",
   "execution_count": 729,
   "id": "f0c03dab-9ab9-4adc-95bd-d3dbce151fc9",
   "metadata": {},
   "outputs": [
    {
     "name": "stdout",
     "output_type": "stream",
     "text": [
      "Accuracy (with error <= 1): 6.99%\n"
     ]
    }
   ],
   "source": [
    "import numpy as np\n",
    "\n",
    "# 예측값과 실제값의 차이를 계산\n",
    "error = np.abs(y_test - y_pred)\n",
    "\n",
    "# 예측값과 실제값의 차이가 1 이하인 경우를 정확한 예측으로 간주\n",
    "correct_predictions = np.sum(error <= 1)\n",
    "\n",
    "# 전체 테스트 데이터에서 정확한 예측의 비율(정확도) 계산\n",
    "accuracy = correct_predictions / len(y_test)\n",
    "\n",
    "# 결과 출력\n",
    "print(f\"Accuracy (with error <= 1): {accuracy * 100:.2f}%\")\n"
   ]
  },
  {
   "cell_type": "code",
   "execution_count": 730,
   "id": "9c43e315-1400-4c2f-87ac-cbf910d94176",
   "metadata": {},
   "outputs": [
    {
     "name": "stdout",
     "output_type": "stream",
     "text": [
      "Pclass별 Age 결측치 개수:\n",
      "Pclass\n",
      "1     30\n",
      "2     11\n",
      "3    136\n",
      "dtype: int64\n",
      "\n",
      "Pclass별 Age 결측치 비율:\n",
      "Pclass\n",
      "1    0.138889\n",
      "2    0.059783\n",
      "3    0.276986\n",
      "dtype: float64\n"
     ]
    }
   ],
   "source": [
    "# Pclass별로 Age 결측치 개수 계산\n",
    "age_missing_by_pclass = file2[file2['Age'].isna()].groupby('Pclass').size()\n",
    "\n",
    "# Pclass별로 Age 결측치 비율 계산\n",
    "age_missing_ratio_by_pclass = age_missing_by_pclass / file2.groupby('Pclass').size()\n",
    "\n",
    "# 결과 출력\n",
    "print(\"Pclass별 Age 결측치 개수:\")\n",
    "print(age_missing_by_pclass)\n",
    "\n",
    "print(\"\\nPclass별 Age 결측치 비율:\")\n",
    "print(age_missing_ratio_by_pclass)\n"
   ]
  },
  {
   "cell_type": "code",
   "execution_count": 731,
   "id": "62cb95c0-0fbd-4248-b94a-ce7b919e4859",
   "metadata": {},
   "outputs": [
    {
     "name": "stdout",
     "output_type": "stream",
     "text": [
      "Pclass별 Age의 평균값:\n",
      "Pclass\n",
      "1    38.233441\n",
      "2    29.877630\n",
      "3    25.140620\n",
      "Name: Age, dtype: float64\n"
     ]
    }
   ],
   "source": [
    "# Pclass별로 Age의 평균값 계산\n",
    "age_mean_by_pclass = file2.groupby('Pclass')['Age'].mean()\n",
    "\n",
    "# 결과 출력\n",
    "print(\"Pclass별 Age의 평균값:\")\n",
    "print(age_mean_by_pclass)\n"
   ]
  },
  {
   "cell_type": "code",
   "execution_count": 732,
   "id": "f14b7e32-f431-4598-946f-d9af986cd6f1",
   "metadata": {},
   "outputs": [
    {
     "name": "stdout",
     "output_type": "stream",
     "text": [
      "   Pclass   Age\n",
      "0       3  22.0\n",
      "1       1  38.0\n",
      "2       3  26.0\n",
      "3       1  35.0\n",
      "4       3  35.0\n"
     ]
    }
   ],
   "source": [
    "# Pclass별 Age 평균값을 구한 후 결측치를 해당 Pclass의 평균값으로 대체\n",
    "file2['Age'] = file2.groupby('Pclass')['Age'].transform(lambda x: x.fillna(x.mean()))\n",
    "\n",
    "# 결과 확인\n",
    "print(file2[['Pclass', 'Age']].head())\n"
   ]
  },
  {
   "cell_type": "code",
   "execution_count": 733,
   "id": "f1826154-6bd6-498b-852c-47ad376a98a1",
   "metadata": {
    "scrolled": true
   },
   "outputs": [
    {
     "name": "stdout",
     "output_type": "stream",
     "text": [
      "전체 컬럼에 대한 결측치 개수:\n",
      "PassengerId      0\n",
      "Survived         0\n",
      "Pclass           0\n",
      "Name             0\n",
      "Sex              0\n",
      "Age              0\n",
      "SibSp            0\n",
      "Parch            0\n",
      "Ticket           0\n",
      "Fare             0\n",
      "Embarked         0\n",
      "Cabin_first    687\n",
      "Sex_numeric      0\n",
      "Family           0\n",
      "dtype: int64\n"
     ]
    }
   ],
   "source": [
    "# 각 컬럼별 결측치 개수 출력\n",
    "missing_values = file2.isna().sum()\n",
    "\n",
    "# 결측치가 있는 컬럼만 필터링하여 출력\n",
    "print(\"전체 컬럼에 대한 결측치 개수:\")\n",
    "print(missing_values)\n"
   ]
  },
  {
   "cell_type": "code",
   "execution_count": 734,
   "id": "5e6e1167-a5d7-4129-a73c-eeede647d3fb",
   "metadata": {},
   "outputs": [
    {
     "name": "stdout",
     "output_type": "stream",
     "text": [
      "범주형 변수:\n",
      "Index(['Name', 'Sex', 'Ticket', 'Embarked', 'Cabin_first'], dtype='object')\n"
     ]
    }
   ],
   "source": [
    "# 각 컬럼의 데이터 타입 확인\n",
    "categorical_columns = file2.select_dtypes(include=['object', 'category']).columns\n",
    "\n",
    "# 범주형 변수 출력\n",
    "print(\"범주형 변수:\")\n",
    "print(categorical_columns)\n"
   ]
  },
  {
   "cell_type": "code",
   "execution_count": 735,
   "id": "a8c9e51a-00f2-4535-9636-dfca9cca545b",
   "metadata": {},
   "outputs": [
    {
     "data": {
      "text/html": [
       "<div>\n",
       "<style scoped>\n",
       "    .dataframe tbody tr th:only-of-type {\n",
       "        vertical-align: middle;\n",
       "    }\n",
       "\n",
       "    .dataframe tbody tr th {\n",
       "        vertical-align: top;\n",
       "    }\n",
       "\n",
       "    .dataframe thead th {\n",
       "        text-align: right;\n",
       "    }\n",
       "</style>\n",
       "<table border=\"1\" class=\"dataframe\">\n",
       "  <thead>\n",
       "    <tr style=\"text-align: right;\">\n",
       "      <th></th>\n",
       "      <th>PassengerId</th>\n",
       "      <th>Survived</th>\n",
       "      <th>Pclass</th>\n",
       "      <th>Name</th>\n",
       "      <th>Sex</th>\n",
       "      <th>Age</th>\n",
       "      <th>SibSp</th>\n",
       "      <th>Parch</th>\n",
       "      <th>Ticket</th>\n",
       "      <th>Fare</th>\n",
       "      <th>Embarked</th>\n",
       "      <th>Cabin_first</th>\n",
       "      <th>Sex_numeric</th>\n",
       "      <th>Family</th>\n",
       "    </tr>\n",
       "  </thead>\n",
       "  <tbody>\n",
       "    <tr>\n",
       "      <th>0</th>\n",
       "      <td>1</td>\n",
       "      <td>0</td>\n",
       "      <td>3</td>\n",
       "      <td>Braund, Mr. Owen Harris</td>\n",
       "      <td>male</td>\n",
       "      <td>22.0</td>\n",
       "      <td>1</td>\n",
       "      <td>0</td>\n",
       "      <td>A/5 21171</td>\n",
       "      <td>7.2500</td>\n",
       "      <td>S</td>\n",
       "      <td>NaN</td>\n",
       "      <td>0</td>\n",
       "      <td>1</td>\n",
       "    </tr>\n",
       "    <tr>\n",
       "      <th>1</th>\n",
       "      <td>2</td>\n",
       "      <td>1</td>\n",
       "      <td>1</td>\n",
       "      <td>Cumings, Mrs. John Bradley (Florence Briggs Th...</td>\n",
       "      <td>female</td>\n",
       "      <td>38.0</td>\n",
       "      <td>1</td>\n",
       "      <td>0</td>\n",
       "      <td>PC 17599</td>\n",
       "      <td>71.2833</td>\n",
       "      <td>C</td>\n",
       "      <td>C</td>\n",
       "      <td>1</td>\n",
       "      <td>1</td>\n",
       "    </tr>\n",
       "    <tr>\n",
       "      <th>2</th>\n",
       "      <td>3</td>\n",
       "      <td>1</td>\n",
       "      <td>3</td>\n",
       "      <td>Heikkinen, Miss. Laina</td>\n",
       "      <td>female</td>\n",
       "      <td>26.0</td>\n",
       "      <td>0</td>\n",
       "      <td>0</td>\n",
       "      <td>STON/O2. 3101282</td>\n",
       "      <td>7.9250</td>\n",
       "      <td>S</td>\n",
       "      <td>NaN</td>\n",
       "      <td>1</td>\n",
       "      <td>0</td>\n",
       "    </tr>\n",
       "    <tr>\n",
       "      <th>3</th>\n",
       "      <td>4</td>\n",
       "      <td>1</td>\n",
       "      <td>1</td>\n",
       "      <td>Futrelle, Mrs. Jacques Heath (Lily May Peel)</td>\n",
       "      <td>female</td>\n",
       "      <td>35.0</td>\n",
       "      <td>1</td>\n",
       "      <td>0</td>\n",
       "      <td>113803</td>\n",
       "      <td>53.1000</td>\n",
       "      <td>S</td>\n",
       "      <td>C</td>\n",
       "      <td>1</td>\n",
       "      <td>1</td>\n",
       "    </tr>\n",
       "    <tr>\n",
       "      <th>4</th>\n",
       "      <td>5</td>\n",
       "      <td>0</td>\n",
       "      <td>3</td>\n",
       "      <td>Allen, Mr. William Henry</td>\n",
       "      <td>male</td>\n",
       "      <td>35.0</td>\n",
       "      <td>0</td>\n",
       "      <td>0</td>\n",
       "      <td>373450</td>\n",
       "      <td>8.0500</td>\n",
       "      <td>S</td>\n",
       "      <td>NaN</td>\n",
       "      <td>0</td>\n",
       "      <td>0</td>\n",
       "    </tr>\n",
       "  </tbody>\n",
       "</table>\n",
       "</div>"
      ],
      "text/plain": [
       "   PassengerId  Survived  Pclass  \\\n",
       "0            1         0       3   \n",
       "1            2         1       1   \n",
       "2            3         1       3   \n",
       "3            4         1       1   \n",
       "4            5         0       3   \n",
       "\n",
       "                                                Name     Sex   Age  SibSp  \\\n",
       "0                            Braund, Mr. Owen Harris    male  22.0      1   \n",
       "1  Cumings, Mrs. John Bradley (Florence Briggs Th...  female  38.0      1   \n",
       "2                             Heikkinen, Miss. Laina  female  26.0      0   \n",
       "3       Futrelle, Mrs. Jacques Heath (Lily May Peel)  female  35.0      1   \n",
       "4                           Allen, Mr. William Henry    male  35.0      0   \n",
       "\n",
       "   Parch            Ticket     Fare Embarked Cabin_first  Sex_numeric  Family  \n",
       "0      0         A/5 21171   7.2500        S         NaN            0       1  \n",
       "1      0          PC 17599  71.2833        C           C            1       1  \n",
       "2      0  STON/O2. 3101282   7.9250        S         NaN            1       0  \n",
       "3      0            113803  53.1000        S           C            1       1  \n",
       "4      0            373450   8.0500        S         NaN            0       0  "
      ]
     },
     "execution_count": 735,
     "metadata": {},
     "output_type": "execute_result"
    }
   ],
   "source": [
    "file2.head()"
   ]
  },
  {
   "cell_type": "code",
   "execution_count": 736,
   "id": "7a39e92d-6e93-4b87-a810-e7e34c24bb13",
   "metadata": {},
   "outputs": [
    {
     "name": "stdout",
     "output_type": "stream",
     "text": [
      "   Survived  Pclass     Sex   Age  SibSp  Parch     Fare Embarked Cabin_first  \\\n",
      "0         0       3    male  22.0      1      0   7.2500        S         NaN   \n",
      "1         1       1  female  38.0      1      0  71.2833        C           C   \n",
      "2         1       3  female  26.0      0      0   7.9250        S         NaN   \n",
      "3         1       1  female  35.0      1      0  53.1000        S           C   \n",
      "4         0       3    male  35.0      0      0   8.0500        S         NaN   \n",
      "\n",
      "   Sex_numeric  Family  \n",
      "0            0       1  \n",
      "1            1       1  \n",
      "2            1       0  \n",
      "3            1       1  \n",
      "4            0       0  \n"
     ]
    }
   ],
   "source": [
    "# PassengerId, Name, Ticket 컬럼 제거\n",
    "file2.drop(['PassengerId', 'Name', 'Ticket'], axis=1, inplace=True)\n",
    "\n",
    "# 결과 확인\n",
    "print(file2.head())\n"
   ]
  },
  {
   "cell_type": "code",
   "execution_count": 737,
   "id": "6db2fc0c-b99f-4c6a-b291-b4e6fb262853",
   "metadata": {},
   "outputs": [],
   "source": [
    "file2 = file2.drop(columns = ['Fare','Sex_numeric'])"
   ]
  },
  {
   "cell_type": "code",
   "execution_count": 738,
   "id": "971752ea-5d07-49d0-847f-44237190ef46",
   "metadata": {},
   "outputs": [
    {
     "name": "stdout",
     "output_type": "stream",
     "text": [
      "   Survived  Pclass     Sex   Age  SibSp  Parch Embarked Cabin_first  Family\n",
      "0         0       3    male  22.0      1      0        S         NaN       1\n",
      "1         1       1  female  38.0      1      0        C           C       1\n",
      "2         1       3  female  26.0      0      0        S         NaN       0\n",
      "3         1       1  female  35.0      1      0        S           C       1\n",
      "4         0       3    male  35.0      0      0        S         NaN       0\n"
     ]
    }
   ],
   "source": [
    "print(file2.head())"
   ]
  },
  {
   "cell_type": "code",
   "execution_count": 739,
   "id": "f5e7ee3a-ecee-4ae3-b9f6-1a7e0e7dccef",
   "metadata": {},
   "outputs": [],
   "source": [
    "file2 = file2.drop(columns = ['Cabin_first'])"
   ]
  },
  {
   "cell_type": "code",
   "execution_count": 740,
   "id": "c7ea4299-6a4f-4941-a7da-2ecadab68825",
   "metadata": {},
   "outputs": [
    {
     "name": "stdout",
     "output_type": "stream",
     "text": [
      "   Survived  Pclass  Sex  Age  SibSp  Parch  Family  Embarked_C  Embarked_Q  \\\n",
      "0         0       3    1   22      1      0       1           0           0   \n",
      "1         1       1    0   38      1      0       1           1           0   \n",
      "2         1       3    0   26      0      0       0           0           0   \n",
      "3         1       1    0   35      1      0       1           0           0   \n",
      "4         0       3    1   35      0      0       0           0           0   \n",
      "\n",
      "   Embarked_S  \n",
      "0           1  \n",
      "1           0  \n",
      "2           1  \n",
      "3           1  \n",
      "4           1  \n"
     ]
    }
   ],
   "source": [
    "from sklearn.preprocessing import LabelEncoder\n",
    "import pandas as pd\n",
    "\n",
    "# Sex 컬럼 - Label Encoding\n",
    "label_encoder = LabelEncoder()\n",
    "file2['Sex'] = label_encoder.fit_transform(file2['Sex'])  # male → 0, female → 1\n",
    "\n",
    "# Embarked 컬럼 - One-Hot Encoding (0과 1로 변환)\n",
    "file2 = pd.get_dummies(file2, columns=['Embarked']).astype(int)\n",
    "\n",
    "print(file2.head())  # 변환된 데이터 확인\n"
   ]
  },
  {
   "cell_type": "code",
   "execution_count": 741,
   "id": "5c92d611-ef07-4172-a8c3-f4e552d47be9",
   "metadata": {},
   "outputs": [
    {
     "name": "stdout",
     "output_type": "stream",
     "text": [
      "   Survived  Pclass  Sex  Age  SibSp  Parch  Family  Embarked_C  Embarked_Q  \\\n",
      "0         0       3    1   22      1      0       1           0           0   \n",
      "1         1       1    0   38      1      0       1           1           0   \n",
      "2         1       3    0   26      0      0       0           0           0   \n",
      "3         1       1    0   35      1      0       1           0           0   \n",
      "4         0       3    1   35      0      0       0           0           0   \n",
      "\n",
      "   Embarked_S  \n",
      "0           1  \n",
      "1           0  \n",
      "2           1  \n",
      "3           1  \n",
      "4           1  \n"
     ]
    }
   ],
   "source": [
    "print(file2.head())"
   ]
  },
  {
   "cell_type": "code",
   "execution_count": 742,
   "id": "a5b7624a-0767-4d6d-a6f2-f26cdbd042f6",
   "metadata": {},
   "outputs": [],
   "source": [
    "file2 = file2.drop(columns = ['Parch', 'SibSp'])"
   ]
  },
  {
   "cell_type": "code",
   "execution_count": 743,
   "id": "eee944dc-1d77-42e1-a027-350b5a4063d7",
   "metadata": {},
   "outputs": [
    {
     "data": {
      "image/png": "[encoded data removed]",
      "text/plain": [
       "<Figure size 1000x600 with 1 Axes>"
      ]
     },
     "metadata": {},
     "output_type": "display_data"
    },
    {
     "data": {
      "image/png": "[encoded data removed]",
      "text/plain": [
       "<Figure size 1000x600 with 1 Axes>"
      ]
     },
     "metadata": {},
     "output_type": "display_data"
    }
   ],
   "source": [
    "import matplotlib.pyplot as plt\n",
    "import seaborn as sns\n",
    "\n",
    "# 나이 컬럼의 분포 확인 - 히스토그램\n",
    "plt.figure(figsize=(10, 6))\n",
    "sns.histplot(file2['Age'], bins=30, kde=True, color='blue')\n",
    "plt.title('Age Distribution')\n",
    "plt.xlabel('Age')\n",
    "plt.ylabel('Frequency')\n",
    "plt.show()\n",
    "\n",
    "# 나이 컬럼의 이상치 확인 - 박스플롯\n",
    "plt.figure(figsize=(10, 6))\n",
    "sns.boxplot(x=file2['Age'], color='green')\n",
    "plt.title('Age Boxplot')\n",
    "plt.xlabel('Age')\n",
    "plt.show()\n"
   ]
  },
  {
   "cell_type": "code",
   "execution_count": 744,
   "id": "9daa635e-ac07-4609-93ba-9b89f0f9be77",
   "metadata": {
    "scrolled": true
   },
   "outputs": [
    {
     "name": "stdout",
     "output_type": "stream",
     "text": [
      "Age Statistics:\n",
      "count    891.000000\n",
      "mean      29.236813\n",
      "std       13.220219\n",
      "min        0.000000\n",
      "25%       22.000000\n",
      "50%       26.000000\n",
      "75%       37.000000\n",
      "max       80.000000\n",
      "Name: Age, dtype: float64\n",
      "\n",
      "IQR Calculation:\n",
      "Q1: 22.0, Q3: 37.0, IQR: 15.0\n",
      "Lower Bound: -0.5, Upper Bound: 59.5\n"
     ]
    }
   ],
   "source": [
    "# 나이(Age) 컬럼에 대한 기술 통계 출력\n",
    "age_stats = file2['Age'].describe()\n",
    "\n",
    "# IQR 계산\n",
    "Q1 = file2['Age'].quantile(0.25)\n",
    "Q3 = file2['Age'].quantile(0.75)\n",
    "IQR = Q3 - Q1\n",
    "\n",
    "# 이상치 기준 (하한, 상한) 출력\n",
    "lower_bound = Q1 - 1.5 * IQR\n",
    "upper_bound = Q3 + 1.5 * IQR\n",
    "\n",
    "# 결과 출력\n",
    "print(\"Age Statistics:\")\n",
    "print(age_stats)\n",
    "print(\"\\nIQR Calculation:\")\n",
    "print(f\"Q1: {Q1}, Q3: {Q3}, IQR: {IQR}\")\n",
    "print(f\"Lower Bound: {lower_bound}, Upper Bound: {upper_bound}\")\n"
   ]
  },
  {
   "cell_type": "code",
   "execution_count": 745,
   "id": "b43b60e7-38e4-4306-86a8-65592f59060b",
   "metadata": {},
   "outputs": [
    {
     "name": "stdout",
     "output_type": "stream",
     "text": [
      "count    891.000000\n",
      "mean      29.466507\n",
      "std       12.961416\n",
      "min        1.000000\n",
      "25%       22.000000\n",
      "50%       26.000000\n",
      "75%       37.000000\n",
      "max       80.000000\n",
      "Name: Age, dtype: float64\n"
     ]
    }
   ],
   "source": [
    "# Age 컬럼에서 0인 값만 평균값으로 대체\n",
    "mean_age = file2['Age'].mean()\n",
    "file2['Age'] = file2['Age'].replace(0, mean_age)\n",
    "\n",
    "# 결과 확인\n",
    "print(file2['Age'].describe())\n"
   ]
  },
  {
   "cell_type": "code",
   "execution_count": 746,
   "id": "ef7194ad-dd2a-4787-916c-6fb0ba9f732f",
   "metadata": {},
   "outputs": [
    {
     "data": {
      "text/html": [
       "<div>\n",
       "<style scoped>\n",
       "    .dataframe tbody tr th:only-of-type {\n",
       "        vertical-align: middle;\n",
       "    }\n",
       "\n",
       "    .dataframe tbody tr th {\n",
       "        vertical-align: top;\n",
       "    }\n",
       "\n",
       "    .dataframe thead th {\n",
       "        text-align: right;\n",
       "    }\n",
       "</style>\n",
       "<table border=\"1\" class=\"dataframe\">\n",
       "  <thead>\n",
       "    <tr style=\"text-align: right;\">\n",
       "      <th></th>\n",
       "      <th>Survived</th>\n",
       "      <th>Pclass</th>\n",
       "      <th>Sex</th>\n",
       "      <th>Age</th>\n",
       "      <th>Family</th>\n",
       "      <th>Embarked_C</th>\n",
       "      <th>Embarked_Q</th>\n",
       "      <th>Embarked_S</th>\n",
       "    </tr>\n",
       "  </thead>\n",
       "  <tbody>\n",
       "    <tr>\n",
       "      <th>0</th>\n",
       "      <td>0</td>\n",
       "      <td>3</td>\n",
       "      <td>1</td>\n",
       "      <td>22.0</td>\n",
       "      <td>1</td>\n",
       "      <td>0</td>\n",
       "      <td>0</td>\n",
       "      <td>1</td>\n",
       "    </tr>\n",
       "    <tr>\n",
       "      <th>1</th>\n",
       "      <td>1</td>\n",
       "      <td>1</td>\n",
       "      <td>0</td>\n",
       "      <td>38.0</td>\n",
       "      <td>1</td>\n",
       "      <td>1</td>\n",
       "      <td>0</td>\n",
       "      <td>0</td>\n",
       "    </tr>\n",
       "    <tr>\n",
       "      <th>2</th>\n",
       "      <td>1</td>\n",
       "      <td>3</td>\n",
       "      <td>0</td>\n",
       "      <td>26.0</td>\n",
       "      <td>0</td>\n",
       "      <td>0</td>\n",
       "      <td>0</td>\n",
       "      <td>1</td>\n",
       "    </tr>\n",
       "    <tr>\n",
       "      <th>3</th>\n",
       "      <td>1</td>\n",
       "      <td>1</td>\n",
       "      <td>0</td>\n",
       "      <td>35.0</td>\n",
       "      <td>1</td>\n",
       "      <td>0</td>\n",
       "      <td>0</td>\n",
       "      <td>1</td>\n",
       "    </tr>\n",
       "    <tr>\n",
       "      <th>4</th>\n",
       "      <td>0</td>\n",
       "      <td>3</td>\n",
       "      <td>1</td>\n",
       "      <td>35.0</td>\n",
       "      <td>0</td>\n",
       "      <td>0</td>\n",
       "      <td>0</td>\n",
       "      <td>1</td>\n",
       "    </tr>\n",
       "  </tbody>\n",
       "</table>\n",
       "</div>"
      ],
      "text/plain": [
       "   Survived  Pclass  Sex   Age  Family  Embarked_C  Embarked_Q  Embarked_S\n",
       "0         0       3    1  22.0       1           0           0           1\n",
       "1         1       1    0  38.0       1           1           0           0\n",
       "2         1       3    0  26.0       0           0           0           1\n",
       "3         1       1    0  35.0       1           0           0           1\n",
       "4         0       3    1  35.0       0           0           0           1"
      ]
     },
     "execution_count": 746,
     "metadata": {},
     "output_type": "execute_result"
    }
   ],
   "source": [
    "file2.head()"
   ]
  },
  {
   "cell_type": "code",
   "execution_count": 747,
   "id": "05f2c994-e7ca-4554-a7fd-9a05dc004875",
   "metadata": {},
   "outputs": [
    {
     "name": "stdout",
     "output_type": "stream",
     "text": [
      "count    8.910000e+02\n",
      "mean     9.569599e-17\n",
      "std      1.000562e+00\n",
      "min     -2.197483e+00\n",
      "25%     -5.763800e-01\n",
      "50%     -2.675984e-01\n",
      "75%      5.815510e-01\n",
      "max      3.900953e+00\n",
      "Name: Age, dtype: float64\n"
     ]
    }
   ],
   "source": [
    "from sklearn.preprocessing import StandardScaler\n",
    "\n",
    "# StandardScaler 객체 생성\n",
    "scaler = StandardScaler()\n",
    "\n",
    "# 나이에 대해서만 표준화 적용\n",
    "file2['Age'] = scaler.fit_transform(file2[['Age']])\n",
    "\n",
    "# 결과 확인\n",
    "print(file2['Age'].describe())\n"
   ]
  },
  {
   "cell_type": "code",
   "execution_count": 748,
   "id": "77347f15-1139-4b65-b22c-c80aadf364ce",
   "metadata": {
    "scrolled": true
   },
   "outputs": [
    {
     "name": "stdout",
     "output_type": "stream",
     "text": [
      "Age Skewness: 0.5783834934172787\n"
     ]
    },
    {
     "data": {
      "image/png": "[encoded data removed]",
      "text/plain": [
       "<Figure size 800x600 with 1 Axes>"
      ]
     },
     "metadata": {},
     "output_type": "display_data"
    }
   ],
   "source": [
    "import seaborn as sns\n",
    "import matplotlib.pyplot as plt\n",
    "from scipy.stats import skew\n",
    "import numpy as np\n",
    "\n",
    "# Age 변수의 왜도 계산\n",
    "age_skew = skew(file2['Age'].dropna())  # NaN 값 제거 후 왜도 계산\n",
    "print(f\"Age Skewness: {age_skew}\")\n",
    "\n",
    "# Age 변수의 분포 시각화\n",
    "plt.figure(figsize=(8, 6))\n",
    "sns.histplot(file2['Age'].dropna(), kde=True)\n",
    "plt.title('Distribution of Age')\n",
    "plt.show()\n"
   ]
  },
  {
   "cell_type": "code",
   "execution_count": 749,
   "id": "c7aefa60-18a2-4cbd-9d7b-2e1501f1460d",
   "metadata": {},
   "outputs": [
    {
     "name": "stdout",
     "output_type": "stream",
     "text": [
      "Series([], dtype: int64)\n"
     ]
    }
   ],
   "source": [
    "# 결측치 확인\n",
    "missing_values = file2.isnull().sum()\n",
    "\n",
    "# 결측치가 있는 컬럼만 출력\n",
    "print(missing_values[missing_values > 0])\n"
   ]
  },
  {
   "cell_type": "code",
   "execution_count": 750,
   "id": "87c9aba0-23f8-48e9-97db-a8c895dab077",
   "metadata": {},
   "outputs": [
    {
     "name": "stdout",
     "output_type": "stream",
     "text": [
      "<class 'pandas.core.frame.DataFrame'>\n",
      "RangeIndex: 891 entries, 0 to 890\n",
      "Data columns (total 8 columns):\n",
      " #   Column      Non-Null Count  Dtype  \n",
      "---  ------      --------------  -----  \n",
      " 0   Survived    891 non-null    int64  \n",
      " 1   Pclass      891 non-null    int64  \n",
      " 2   Sex         891 non-null    int64  \n",
      " 3   Age         891 non-null    float64\n",
      " 4   Family      891 non-null    int64  \n",
      " 5   Embarked_C  891 non-null    int64  \n",
      " 6   Embarked_Q  891 non-null    int64  \n",
      " 7   Embarked_S  891 non-null    int64  \n",
      "dtypes: float64(1), int64(7)\n",
      "memory usage: 55.8 KB\n"
     ]
    }
   ],
   "source": [
    "file2.info()"
   ]
  },
  {
   "cell_type": "code",
   "execution_count": 751,
   "id": "ad891e98-ab07-4330-b229-3e10477910a4",
   "metadata": {},
   "outputs": [],
   "source": [
    "import pandas as pd\n",
    "from sklearn.model_selection import train_test_split\n",
    "from sklearn.preprocessing import StandardScaler\n",
    "from sklearn.linear_model import LogisticRegression\n",
    "from sklearn.metrics import accuracy_score, classification_report\n"
   ]
  },
  {
   "cell_type": "code",
   "execution_count": 752,
   "id": "ada3b8b0-ce0f-43ec-9dab-cec4c287ccaa",
   "metadata": {},
   "outputs": [],
   "source": [
    "# X는 피처 데이터 (Pclass, Age, Family, Embarked), y는 타겟 데이터 (Survived)\n",
    "X = file2[['Pclass', 'Age', 'Family', 'Embarked_C', 'Embarked_Q', 'Embarked_S']]\n",
    "y = file2['Survived']\n",
    "\n",
    "# 데이터 나누기: 훈련 데이터 80%, 테스트 데이터 20%\n",
    "X_train, X_test, y_train, y_test = train_test_split(X, y, test_size=0.2, random_state=42)\n",
    "\n",
    "# 표준화: Age와 Family 같은 특성 값의 차이가 클 수 있으므로 표준화 진행\n",
    "scaler = StandardScaler()\n",
    "X_train_scaled = scaler.fit_transform(X_train)\n",
    "X_test_scaled = scaler.transform(X_test)\n"
   ]
  },
  {
   "cell_type": "code",
   "execution_count": 753,
   "id": "ac03f408-0813-48a9-ad6b-172bbfff9cee",
   "metadata": {},
   "outputs": [
    {
     "name": "stdout",
     "output_type": "stream",
     "text": [
      "Accuracy: 0.7263\n",
      "              precision    recall  f1-score   support\n",
      "\n",
      "           0       0.72      0.89      0.79       105\n",
      "           1       0.76      0.50      0.60        74\n",
      "\n",
      "    accuracy                           0.73       179\n",
      "   macro avg       0.74      0.69      0.70       179\n",
      "weighted avg       0.73      0.73      0.71       179\n",
      "\n"
     ]
    }
   ],
   "source": [
    "# 모델 초기화\n",
    "model = LogisticRegression(max_iter=1000)\n",
    "\n",
    "# 모델 훈련\n",
    "model.fit(X_train_scaled, y_train)\n",
    "\n",
    "# 예측\n",
    "y_pred = model.predict(X_test_scaled)\n",
    "\n",
    "# 성능 평가\n",
    "accuracy = accuracy_score(y_test, y_pred)\n",
    "print(f'Accuracy: {accuracy:.4f}')\n",
    "\n",
    "# 분류 리포트 출력 (정밀도, 재현율, F1 점수 등)\n",
    "print(classification_report(y_test, y_pred))\n"
   ]
  },
  {
   "cell_type": "code",
   "execution_count": 754,
   "id": "0b9b3d8e-ab61-462f-aca3-dbf6edd834aa",
   "metadata": {},
   "outputs": [
    {
     "name": "stdout",
     "output_type": "stream",
     "text": [
      "Cross-Validation Scores: [0.67132867 0.71328671 0.71126761 0.70422535 0.66901408]\n",
      "Mean Cross-Validation Score: 0.6938\n"
     ]
    }
   ],
   "source": [
    "from sklearn.model_selection import cross_val_score\n",
    "\n",
    "# K-Fold Cross Validation 적용 (5-fold)\n",
    "cv_scores = cross_val_score(model, X_train_scaled, y_train, cv=5)\n",
    "\n",
    "# 교차 검증 결과 출력\n",
    "print(f'Cross-Validation Scores: {cv_scores}')\n",
    "print(f'Mean Cross-Validation Score: {cv_scores.mean():.4f}')\n"
   ]
  },
  {
   "cell_type": "code",
   "execution_count": 755,
   "id": "82b1fab4-9337-4ea6-b1e7-dd0a48eb7241",
   "metadata": {},
   "outputs": [
    {
     "name": "stdout",
     "output_type": "stream",
     "text": [
      "Logistic Regression Cross-Validation Scores: [0.62011173 0.66292135 0.73595506 0.75280899 0.69662921]\n",
      "Mean Logistic Regression Cross-Validation Score: 0.6936852677170295\n",
      "Random Forest Cross-Validation Scores: [0.62011173 0.65168539 0.65168539 0.70224719 0.66292135]\n",
      "Mean Random Forest Cross-Validation Score: 0.6577302115372544\n",
      "Gradient Boosting Cross-Validation Scores: [0.63128492 0.71910112 0.73595506 0.7752809  0.73595506]\n",
      "Mean Gradient Boosting Cross-Validation Score: 0.7195154102065155\n"
     ]
    }
   ],
   "source": [
    "# 기존 코드에 랜덤 포레스트와 그라디언트 부스팅 모델을 추가\n",
    "\n",
    "from sklearn.ensemble import RandomForestClassifier\n",
    "from sklearn.ensemble import GradientBoostingClassifier\n",
    "from sklearn.model_selection import cross_val_score\n",
    "from sklearn.preprocessing import StandardScaler\n",
    "\n",
    "# file2에서 데이터 로드 (변수명이 다르게 설정됨)\n",
    "X = file2[['Pclass', 'Age', 'Family', 'Embarked_C', 'Embarked_Q', 'Embarked_S']]  # 피처들\n",
    "y = file2['Survived']  # 타겟\n",
    "\n",
    "# 데이터 스케일링 (특히 Age와 Family가 다른 단위일 경우)\n",
    "scaler = StandardScaler()\n",
    "X_scaled = scaler.fit_transform(X)\n",
    "\n",
    "# 1. 로지스틱 회귀 (Logistic Regression)\n",
    "from sklearn.linear_model import LogisticRegression\n",
    "\n",
    "log_model = LogisticRegression(max_iter=1000)\n",
    "log_cv_scores = cross_val_score(log_model, X_scaled, y, cv=5)\n",
    "print(f'Logistic Regression Cross-Validation Scores: {log_cv_scores}')\n",
    "print(f'Mean Logistic Regression Cross-Validation Score: {log_cv_scores.mean()}')\n",
    "\n",
    "# 2. 랜덤 포레스트 (Random Forest)\n",
    "rf_model = RandomForestClassifier(n_estimators=100, random_state=42)\n",
    "rf_cv_scores = cross_val_score(rf_model, X_scaled, y, cv=5)\n",
    "print(f'Random Forest Cross-Validation Scores: {rf_cv_scores}')\n",
    "print(f'Mean Random Forest Cross-Validation Score: {rf_cv_scores.mean()}')\n",
    "\n",
    "# 3. 그라디언트 부스팅 (Gradient Boosting)\n",
    "gb_model = GradientBoostingClassifier(n_estimators=100, random_state=42)\n",
    "gb_cv_scores = cross_val_score(gb_model, X_scaled, y, cv=5)\n",
    "print(f'Gradient Boosting Cross-Validation Scores: {gb_cv_scores}')\n",
    "print(f'Mean Gradient Boosting Cross-Validation Score: {gb_cv_scores.mean()}')\n",
    "\n"
   ]
  },
  {
   "cell_type": "code",
   "execution_count": 756,
   "id": "09f25336-a4a0-4bf1-bf65-743406d13c84",
   "metadata": {},
   "outputs": [
    {
     "data": {
      "text/html": [
       "<div>\n",
       "<style scoped>\n",
       "    .dataframe tbody tr th:only-of-type {\n",
       "        vertical-align: middle;\n",
       "    }\n",
       "\n",
       "    .dataframe tbody tr th {\n",
       "        vertical-align: top;\n",
       "    }\n",
       "\n",
       "    .dataframe thead th {\n",
       "        text-align: right;\n",
       "    }\n",
       "</style>\n",
       "<table border=\"1\" class=\"dataframe\">\n",
       "  <thead>\n",
       "    <tr style=\"text-align: right;\">\n",
       "      <th></th>\n",
       "      <th>PassengerId</th>\n",
       "      <th>Pclass</th>\n",
       "      <th>Name</th>\n",
       "      <th>Sex</th>\n",
       "      <th>Age</th>\n",
       "      <th>SibSp</th>\n",
       "      <th>Parch</th>\n",
       "      <th>Ticket</th>\n",
       "      <th>Fare</th>\n",
       "      <th>Cabin</th>\n",
       "      <th>Embarked</th>\n",
       "    </tr>\n",
       "  </thead>\n",
       "  <tbody>\n",
       "    <tr>\n",
       "      <th>0</th>\n",
       "      <td>892</td>\n",
       "      <td>3</td>\n",
       "      <td>Kelly, Mr. James</td>\n",
       "      <td>male</td>\n",
       "      <td>34.5</td>\n",
       "      <td>0</td>\n",
       "      <td>0</td>\n",
       "      <td>330911</td>\n",
       "      <td>7.8292</td>\n",
       "      <td>NaN</td>\n",
       "      <td>Q</td>\n",
       "    </tr>\n",
       "    <tr>\n",
       "      <th>1</th>\n",
       "      <td>893</td>\n",
       "      <td>3</td>\n",
       "      <td>Wilkes, Mrs. James (Ellen Needs)</td>\n",
       "      <td>female</td>\n",
       "      <td>47.0</td>\n",
       "      <td>1</td>\n",
       "      <td>0</td>\n",
       "      <td>363272</td>\n",
       "      <td>7.0000</td>\n",
       "      <td>NaN</td>\n",
       "      <td>S</td>\n",
       "    </tr>\n",
       "    <tr>\n",
       "      <th>2</th>\n",
       "      <td>894</td>\n",
       "      <td>2</td>\n",
       "      <td>Myles, Mr. Thomas Francis</td>\n",
       "      <td>male</td>\n",
       "      <td>62.0</td>\n",
       "      <td>0</td>\n",
       "      <td>0</td>\n",
       "      <td>240276</td>\n",
       "      <td>9.6875</td>\n",
       "      <td>NaN</td>\n",
       "      <td>Q</td>\n",
       "    </tr>\n",
       "    <tr>\n",
       "      <th>3</th>\n",
       "      <td>895</td>\n",
       "      <td>3</td>\n",
       "      <td>Wirz, Mr. Albert</td>\n",
       "      <td>male</td>\n",
       "      <td>27.0</td>\n",
       "      <td>0</td>\n",
       "      <td>0</td>\n",
       "      <td>315154</td>\n",
       "      <td>8.6625</td>\n",
       "      <td>NaN</td>\n",
       "      <td>S</td>\n",
       "    </tr>\n",
       "    <tr>\n",
       "      <th>4</th>\n",
       "      <td>896</td>\n",
       "      <td>3</td>\n",
       "      <td>Hirvonen, Mrs. Alexander (Helga E Lindqvist)</td>\n",
       "      <td>female</td>\n",
       "      <td>22.0</td>\n",
       "      <td>1</td>\n",
       "      <td>1</td>\n",
       "      <td>3101298</td>\n",
       "      <td>12.2875</td>\n",
       "      <td>NaN</td>\n",
       "      <td>S</td>\n",
       "    </tr>\n",
       "  </tbody>\n",
       "</table>\n",
       "</div>"
      ],
      "text/plain": [
       "   PassengerId  Pclass                                          Name     Sex  \\\n",
       "0          892       3                              Kelly, Mr. James    male   \n",
       "1          893       3              Wilkes, Mrs. James (Ellen Needs)  female   \n",
       "2          894       2                     Myles, Mr. Thomas Francis    male   \n",
       "3          895       3                              Wirz, Mr. Albert    male   \n",
       "4          896       3  Hirvonen, Mrs. Alexander (Helga E Lindqvist)  female   \n",
       "\n",
       "    Age  SibSp  Parch   Ticket     Fare Cabin Embarked  \n",
       "0  34.5      0      0   330911   7.8292   NaN        Q  \n",
       "1  47.0      1      0   363272   7.0000   NaN        S  \n",
       "2  62.0      0      0   240276   9.6875   NaN        Q  \n",
       "3  27.0      0      0   315154   8.6625   NaN        S  \n",
       "4  22.0      1      1  3101298  12.2875   NaN        S  "
      ]
     },
     "execution_count": 756,
     "metadata": {},
     "output_type": "execute_result"
    }
   ],
   "source": [
    "file1.head()"
   ]
  },
  {
   "cell_type": "code",
   "execution_count": 757,
   "id": "92e9dcdb-dd3c-4ebf-b451-425240211d75",
   "metadata": {},
   "outputs": [],
   "source": [
    "file1 = file1.drop(columns = ['PassengerId','Name','Ticket','Fare','Cabin'])"
   ]
  },
  {
   "cell_type": "code",
   "execution_count": 758,
   "id": "01198dee-c449-48ac-9462-74d5ae555665",
   "metadata": {},
   "outputs": [
    {
     "name": "stdout",
     "output_type": "stream",
     "text": [
      "   Pclass  Sex       Age  SibSp  Parch Embarked  Family  Embarked_C  \\\n",
      "0       3    0 -0.792474      0      0        Q       0           0   \n",
      "1       3    1 -0.481970      1      0        S       1           0   \n",
      "2       2    0 -0.204105      0      0        Q       0           0   \n",
      "3       3    0 -1.038973      0      0        S       0           0   \n",
      "4       3    1 -1.245209      1      1        S       2           0   \n",
      "\n",
      "   Embarked_Q  Embarked_S  \n",
      "0           1           0  \n",
      "1           0           1  \n",
      "2           1           0  \n",
      "3           0           1  \n",
      "4           0           1  \n"
     ]
    }
   ],
   "source": [
    "import pandas as pd\n",
    "import numpy as np\n",
    "\n",
    "# file1 데이터 전처리\n",
    "\n",
    "# 1. Sex 컬럼 인코딩 (Male -> 0, Female -> 1)\n",
    "file1['Sex'] = file1['Sex'].map({'male': 0, 'female': 1})\n",
    "\n",
    "# 2. Age 결측치 처리 (평균값으로 대체)\n",
    "file1['Age'] = file1['Age'].fillna(file1['Age'].mean())\n",
    "\n",
    "# 3. Age 정규화 (0과 1 사이로 변환)\n",
    "min_age = file1['Age'].min()\n",
    "max_age = file1['Age'].max()\n",
    "file1['Age'] = (file1['Age'] - min_age) / (max_age - min_age)\n",
    "\n",
    "# 4. SibSp + Parch -> Family 컬럼 생성\n",
    "file1['Family'] = file1['SibSp'] + file1['Parch']\n",
    "\n",
    "# 5. Embarked 더미 변수 생성 (C, Q, S에 대해 각각 0과 1로 변환)\n",
    "file1['Embarked_C'] = (file1['Embarked'] == 'C').astype(int)\n",
    "file1['Embarked_Q'] = (file1['Embarked'] == 'Q').astype(int)\n",
    "file1['Embarked_S'] = (file1['Embarked'] == 'S').astype(int)\n",
    "\n",
    "# 6. Age 로그 변환 (0 이하의 값은 그대로 두고, 그 외 값은 로그 변환)\n",
    "file1['Age'] = file1['Age'].apply(lambda x: x if x <= 0 else np.log(x))\n",
    "\n",
    "# 결과 확인\n",
    "print(file1.head())\n"
   ]
  },
  {
   "cell_type": "code",
   "execution_count": 759,
   "id": "12d3cc99-2012-45fc-9c6b-b52373581411",
   "metadata": {},
   "outputs": [
    {
     "data": {
      "text/html": [
       "<div>\n",
       "<style scoped>\n",
       "    .dataframe tbody tr th:only-of-type {\n",
       "        vertical-align: middle;\n",
       "    }\n",
       "\n",
       "    .dataframe tbody tr th {\n",
       "        vertical-align: top;\n",
       "    }\n",
       "\n",
       "    .dataframe thead th {\n",
       "        text-align: right;\n",
       "    }\n",
       "</style>\n",
       "<table border=\"1\" class=\"dataframe\">\n",
       "  <thead>\n",
       "    <tr style=\"text-align: right;\">\n",
       "      <th></th>\n",
       "      <th>Survived</th>\n",
       "      <th>Pclass</th>\n",
       "      <th>Sex</th>\n",
       "      <th>Age</th>\n",
       "      <th>Family</th>\n",
       "      <th>Embarked_C</th>\n",
       "      <th>Embarked_Q</th>\n",
       "      <th>Embarked_S</th>\n",
       "    </tr>\n",
       "  </thead>\n",
       "  <tbody>\n",
       "    <tr>\n",
       "      <th>0</th>\n",
       "      <td>0</td>\n",
       "      <td>3</td>\n",
       "      <td>1</td>\n",
       "      <td>-0.576380</td>\n",
       "      <td>1</td>\n",
       "      <td>0</td>\n",
       "      <td>0</td>\n",
       "      <td>1</td>\n",
       "    </tr>\n",
       "    <tr>\n",
       "      <th>1</th>\n",
       "      <td>1</td>\n",
       "      <td>1</td>\n",
       "      <td>0</td>\n",
       "      <td>0.658746</td>\n",
       "      <td>1</td>\n",
       "      <td>1</td>\n",
       "      <td>0</td>\n",
       "      <td>0</td>\n",
       "    </tr>\n",
       "    <tr>\n",
       "      <th>2</th>\n",
       "      <td>1</td>\n",
       "      <td>3</td>\n",
       "      <td>0</td>\n",
       "      <td>-0.267598</td>\n",
       "      <td>0</td>\n",
       "      <td>0</td>\n",
       "      <td>0</td>\n",
       "      <td>1</td>\n",
       "    </tr>\n",
       "    <tr>\n",
       "      <th>3</th>\n",
       "      <td>1</td>\n",
       "      <td>1</td>\n",
       "      <td>0</td>\n",
       "      <td>0.427160</td>\n",
       "      <td>1</td>\n",
       "      <td>0</td>\n",
       "      <td>0</td>\n",
       "      <td>1</td>\n",
       "    </tr>\n",
       "    <tr>\n",
       "      <th>4</th>\n",
       "      <td>0</td>\n",
       "      <td>3</td>\n",
       "      <td>1</td>\n",
       "      <td>0.427160</td>\n",
       "      <td>0</td>\n",
       "      <td>0</td>\n",
       "      <td>0</td>\n",
       "      <td>1</td>\n",
       "    </tr>\n",
       "  </tbody>\n",
       "</table>\n",
       "</div>"
      ],
      "text/plain": [
       "   Survived  Pclass  Sex       Age  Family  Embarked_C  Embarked_Q  Embarked_S\n",
       "0         0       3    1 -0.576380       1           0           0           1\n",
       "1         1       1    0  0.658746       1           1           0           0\n",
       "2         1       3    0 -0.267598       0           0           0           1\n",
       "3         1       1    0  0.427160       1           0           0           1\n",
       "4         0       3    1  0.427160       0           0           0           1"
      ]
     },
     "execution_count": 759,
     "metadata": {},
     "output_type": "execute_result"
    }
   ],
   "source": [
    "file2.head()"
   ]
  },
  {
   "cell_type": "code",
   "execution_count": 813,
   "id": "1cfb304a-680d-4d4c-9b79-9f81eb886815",
   "metadata": {},
   "outputs": [
    {
     "name": "stdout",
     "output_type": "stream",
     "text": [
      "   Pclass       Age  Family  Embarked_C  Embarked_S  Embarked_Q  Survived\n",
      "0       3 -0.792474       0           0           0           1         0\n",
      "1       3 -0.481970       1           0           1           0         0\n",
      "2       2 -0.204105       0           0           0           1         1\n",
      "3       3 -1.038973       0           0           1           0         0\n",
      "4       3 -1.245209       2           0           1           0         0\n"
     ]
    }
   ],
   "source": [
    "import pandas as pd\n",
    "import numpy as np\n",
    "from sklearn.ensemble import GradientBoostingClassifier\n",
    "from sklearn.preprocessing import StandardScaler\n",
    "\n",
    "# 이미 전처리된 file1을 사용한다고 가정\n",
    "\n",
    "# 입력 변수 (Pclass, Age, Family, Embarked_C, Embarked_S, Embarked_Q)\n",
    "X_file1 = file1[['Pclass', 'Age', 'Family', 'Embarked_C', 'Embarked_S', 'Embarked_Q']]\n",
    "\n",
    "# 모델 훈련을 위해 file2에서 사용한 X와 y 준비\n",
    "X_train = file2[['Pclass', 'Age', 'Family', 'Embarked_C', 'Embarked_S', 'Embarked_Q']]\n",
    "y_train = file2['Survived']\n",
    "\n",
    "# 모델 훈련 (GradientBoostingClassifier 사용)\n",
    "model = GradientBoostingClassifier(n_estimators=100, random_state=42)\n",
    "model.fit(X_train, y_train)\n",
    "\n",
    "# file1 데이터를 예측\n",
    "predictions = model.predict(X_file1)\n",
    "\n",
    "# 예측 결과를 'Survived' 컬럼으로 file1에 추가\n",
    "file1['Survived'] = predictions\n",
    "\n",
    "# 예측 결과 출력 (Survived가 0이면 사망, 1이면 생존)\n",
    "print(file1[['Pclass', 'Age', 'Family', 'Embarked_C', 'Embarked_S', 'Embarked_Q', 'Survived']].head())\n",
    "\n"
   ]
  },
  {
   "cell_type": "code",
   "execution_count": 815,
   "id": "6c3e0cd0-ff44-4051-b4e1-0dc5287941f0",
   "metadata": {},
   "outputs": [
    {
     "name": "stdout",
     "output_type": "stream",
     "text": [
      "생존자 수: 198명\n"
     ]
    }
   ],
   "source": [
    "survived_count = file1[file1['Survived'] == 1].shape[0]\n",
    "print(f'생존자 수: {survived_count}명')"
   ]
  },
  {
   "cell_type": "code",
   "execution_count": 817,
   "id": "6c5ae2ba-8237-4c95-a3c9-1251ab147dbe",
   "metadata": {},
   "outputs": [],
   "source": [
    "file3 = pd.read_csv(\"submission.csv\")\n"
   ]
  },
  {
   "cell_type": "code",
   "execution_count": 819,
   "id": "2398bcd7-3ede-48e5-b22f-29419c488a18",
   "metadata": {},
   "outputs": [
    {
     "name": "stdout",
     "output_type": "stream",
     "text": [
      "생존자 수: 152명\n"
     ]
    }
   ],
   "source": [
    "survived_count1 = file3[file3['Survived'] == 1].shape[0]\n",
    "print(f'생존자 수: {survived_count1}명')"
   ]
  },
  {
   "cell_type": "code",
   "execution_count": null,
   "id": "897d4954-0f5c-4a32-a85e-daea2714f695",
   "metadata": {},
   "outputs": [],
   "source": []
  }
 ],
 "metadata": {
  "kernelspec": {
   "display_name": "Python [conda env:base] *",
   "language": "python",
   "name": "conda-base-py"
  },
  "language_info": {
   "codemirror_mode": {
    "name": "ipython",
    "version": 3
   },
   "file_extension": ".py",
   "mimetype": "text/x-python",
   "name": "python",
   "nbconvert_exporter": "python",
   "pygments_lexer": "ipython3",
   "version": "3.12.7"
  }
 },
 "nbformat": 4,
 "nbformat_minor": 5
}
